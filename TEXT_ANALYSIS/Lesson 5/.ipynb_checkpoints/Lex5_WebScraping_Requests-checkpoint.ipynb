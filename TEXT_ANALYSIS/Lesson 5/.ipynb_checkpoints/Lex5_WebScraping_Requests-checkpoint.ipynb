{
 "cells": [
  {
   "cell_type": "markdown",
   "id": "deda55ac",
   "metadata": {},
   "source": [
    "# Lesson 5\n",
    "\n",
    "### Web Scraping with requests"
   ]
  },
  {
   "cell_type": "markdown",
   "id": "643dbbb2",
   "metadata": {},
   "source": [
    "https://pypi.org/project/requests/\n",
    "\n",
    "https://docs.python-requests.org/en/master/\n"
   ]
  },
  {
   "cell_type": "code",
   "execution_count": 1,
   "id": "bdad6d7d",
   "metadata": {
    "scrolled": true
   },
   "outputs": [],
   "source": [
    "import requests"
   ]
  },
  {
   "cell_type": "code",
   "execution_count": 2,
   "id": "7efbfbf2",
   "metadata": {
    "scrolled": true
   },
   "outputs": [
    {
     "name": "stdout",
     "output_type": "stream",
     "text": [
      "Help on package requests:\n",
      "\n",
      "NAME\n",
      "    requests\n",
      "\n",
      "DESCRIPTION\n",
      "    Requests HTTP Library\n",
      "    ~~~~~~~~~~~~~~~~~~~~~\n",
      "    \n",
      "    Requests is an HTTP library, written in Python, for human beings.\n",
      "    Basic GET usage:\n",
      "    \n",
      "       >>> import requests\n",
      "       >>> r = requests.get('https://www.python.org')\n",
      "       >>> r.status_code\n",
      "       200\n",
      "       >>> b'Python is a programming language' in r.content\n",
      "       True\n",
      "    \n",
      "    ... or POST:\n",
      "    \n",
      "       >>> payload = dict(key1='value1', key2='value2')\n",
      "       >>> r = requests.post('https://httpbin.org/post', data=payload)\n",
      "       >>> print(r.text)\n",
      "       {\n",
      "         ...\n",
      "         \"form\": {\n",
      "           \"key1\": \"value1\",\n",
      "           \"key2\": \"value2\"\n",
      "         },\n",
      "         ...\n",
      "       }\n",
      "    \n",
      "    The other HTTP methods are supported - see `requests.api`. Full documentation\n",
      "    is at <https://requests.readthedocs.io>.\n",
      "    \n",
      "    :copyright: (c) 2017 by Kenneth Reitz.\n",
      "    :license: Apache 2.0, see LICENSE for more details.\n",
      "\n",
      "PACKAGE CONTENTS\n",
      "    __version__\n",
      "    _internal_utils\n",
      "    adapters\n",
      "    api\n",
      "    auth\n",
      "    certs\n",
      "    compat\n",
      "    cookies\n",
      "    exceptions\n",
      "    help\n",
      "    hooks\n",
      "    models\n",
      "    packages\n",
      "    sessions\n",
      "    status_codes\n",
      "    structures\n",
      "    utils\n",
      "\n",
      "FUNCTIONS\n",
      "    check_compatibility(urllib3_version, chardet_version)\n",
      "\n",
      "DATA\n",
      "    __author_email__ = 'me@kennethreitz.org'\n",
      "    __build__ = 140545\n",
      "    __cake__ = '✨ 🍰 ✨'\n",
      "    __copyright__ = 'Copyright 2020 Kenneth Reitz'\n",
      "    __description__ = 'Python HTTP for Humans.'\n",
      "    __license__ = 'Apache 2.0'\n",
      "    __title__ = 'requests'\n",
      "    __url__ = 'https://requests.readthedocs.io'\n",
      "    codes = <lookup 'status_codes'>\n",
      "\n",
      "VERSION\n",
      "    2.25.1\n",
      "\n",
      "AUTHOR\n",
      "    Kenneth Reitz\n",
      "\n",
      "FILE\n",
      "    w:\\programmi\\anaconda\\lib\\site-packages\\requests\\__init__.py\n",
      "\n",
      "\n"
     ]
    }
   ],
   "source": [
    "help(requests)"
   ]
  },
  {
   "cell_type": "code",
   "execution_count": 3,
   "id": "d37fbfc6",
   "metadata": {
    "scrolled": true
   },
   "outputs": [
    {
     "data": {
      "text/plain": [
       "['ConnectTimeout',\n",
       " 'ConnectionError',\n",
       " 'DependencyWarning',\n",
       " 'FileModeWarning',\n",
       " 'HTTPError',\n",
       " 'NullHandler',\n",
       " 'PreparedRequest',\n",
       " 'ReadTimeout',\n",
       " 'Request',\n",
       " 'RequestException',\n",
       " 'RequestsDependencyWarning',\n",
       " 'Response',\n",
       " 'Session',\n",
       " 'Timeout',\n",
       " 'TooManyRedirects',\n",
       " 'URLRequired',\n",
       " '__author__',\n",
       " '__author_email__',\n",
       " '__build__',\n",
       " '__builtins__',\n",
       " '__cached__',\n",
       " '__cake__',\n",
       " '__copyright__',\n",
       " '__description__',\n",
       " '__doc__',\n",
       " '__file__',\n",
       " '__license__',\n",
       " '__loader__',\n",
       " '__name__',\n",
       " '__package__',\n",
       " '__path__',\n",
       " '__spec__',\n",
       " '__title__',\n",
       " '__url__',\n",
       " '__version__',\n",
       " '_check_cryptography',\n",
       " '_internal_utils',\n",
       " 'adapters',\n",
       " 'api',\n",
       " 'auth',\n",
       " 'certs',\n",
       " 'chardet',\n",
       " 'check_compatibility',\n",
       " 'codes',\n",
       " 'compat',\n",
       " 'cookies',\n",
       " 'delete',\n",
       " 'exceptions',\n",
       " 'get',\n",
       " 'head',\n",
       " 'hooks',\n",
       " 'logging',\n",
       " 'models',\n",
       " 'options',\n",
       " 'packages',\n",
       " 'patch',\n",
       " 'post',\n",
       " 'put',\n",
       " 'request',\n",
       " 'session',\n",
       " 'sessions',\n",
       " 'ssl',\n",
       " 'status_codes',\n",
       " 'structures',\n",
       " 'urllib3',\n",
       " 'utils',\n",
       " 'warnings']"
      ]
     },
     "execution_count": 3,
     "metadata": {},
     "output_type": "execute_result"
    }
   ],
   "source": [
    "dir(requests)"
   ]
  },
  {
   "cell_type": "markdown",
   "id": "ff616eba",
   "metadata": {},
   "source": [
    "### An example based on \"Text-only websites\"\n",
    "\n",
    "\n",
    "https://sjmulder.nl/en/textonly.html \n",
    "--> This is a directory of websites that primarily stick with simple, marked up, hyperlinked text.\n",
    "\n"
   ]
  },
  {
   "cell_type": "code",
   "execution_count": 4,
   "id": "e29ea84d",
   "metadata": {
    "scrolled": true
   },
   "outputs": [],
   "source": [
    "page = \"https://plumebio.com/\""
   ]
  },
  {
   "cell_type": "code",
   "execution_count": 5,
   "id": "c5ed649e",
   "metadata": {
    "scrolled": true
   },
   "outputs": [],
   "source": [
    "r = requests.get(page)"
   ]
  },
  {
   "cell_type": "code",
   "execution_count": 6,
   "id": "932625d3",
   "metadata": {
    "scrolled": true
   },
   "outputs": [
    {
     "name": "stdout",
     "output_type": "stream",
     "text": [
      "<!DOCTYPE html>\r\n",
      "<html lang=\"en\">\r\n",
      "<head>\r\n",
      "    <meta name=\"referrer\" content=\"origin\">\r\n",
      "    <meta charset=\"UTF-8\">\r\n",
      "    <meta name=\"viewport\" content=\"width=device-width, initial-scale=1\">\r\n",
      "    <meta name=\"description\" content=\"A simple and friendly personal bio to express who you are, what you do, and give others a safe way to contact you.\">\r\n",
      "    <meta name=\"author\" content=\"PlumeBio\">\r\n",
      "    <title>PlumeBio - write your personal bio</title>\r\n",
      "    <link rel=\"stylesheet\" href=\"/style.css\">\r\n",
      "    <link rel=\"shortcut icon\" href=\"/favicon.ico\">\r\n",
      "\r\n",
      "    </head>\r\n",
      "<body>\r\n",
      "    <div class=\"header\">\r\n",
      "        <a href=\"/\" style=\"text-decoration: none;\">\r\n",
      "            <div class=\"logo\">\r\n",
      "                <svg class=\"logo-icon\" height='20px' width='20px'  fill=\"#000000\" xmlns=\"http://www.w3.org/2000/svg\" viewBox=\"0 0 100 100\" x=\"0px\" y=\"0px\"><path fill=\"#084468\" d=\"M14,98H74A12,12,0,0,0,86,86V74a4,4,0,0,0-8,0V86a4,4,0,0,1-4,4H14a4,4,0,0,1-4-4V26a4,4,0,0,1,4-4H26a4,4,0,0,0,0-8H14A12,12,0,0,0,2,26V86A12,12,0,0,0,14,98Z\"></path><path fill=\"#084468\" d=\"M98,6a4,4,0,0,0-4-4H86A56.06,56.06,0,0,0,30,58v6.34L19.17,75.17a4,4,0,0,0,5.66,5.66L35.66,70H42A56,56,0,0,0,83.85,51.13a4,4,0,0,0,.21-5.06l-5.88-8a.14.14,0,0,1,.15-.09H90a4,4,0,0,0,3.69-2.46A55.63,55.63,0,0,0,98,14Zm-8,8a47.71,47.71,0,0,1-2.74,16H78.33A8.17,8.17,0,0,0,71.8,43.07l3.83,5.1A48,48,0,0,1,42,62H38V58A48.05,48.05,0,0,1,86,10h4Z\"></path></svg>\r\n",
      "                <div class=\"logo-text\">PlumeBio</div>\r\n",
      "            </div>\r\n",
      "        </a>\r\n",
      "        <nav>\r\n",
      "    \t   <a href=\"/search/\">Search</a>\r\n",
      "    \t   <a href=\"/edit/\">Edit</a>\r\n",
      "            <a href=\"/create/\">Create</a> \r\n",
      "        </nav>\r\n",
      "    </div>\r\n",
      "<div class=\"container\">\r\n",
      "\t<h1>A place for your story</h1>\r\n",
      "\t<p><b>A friendly way to promote who you are and what you do in one link.</b></p>\r\n",
      "\t\t<ul class=\"list\">\r\n",
      "\t\t\t<li>Express your <b>full self</b>, unfettered by templates</li>\r\n",
      "\t\t\t<li>Grow your presence, <b>so people can find you</b></li>\r\n",
      "\t\t\t<li>Get <b>clients</b> and grow your <b>audience</b></li>\r\n",
      "\t\t</ul>\r\n",
      "\tYour PlumeBio includes:\r\n",
      "\t<ul class=\"list\">\r\n",
      "\t\t<li><i>plumebio.com/<b>yourname</b></i> link that you can share</li>\r\n",
      "\t\t<li><b>Contact Me</b> form to receive messages from visitors without disclosing your email</li>\r\n",
      "\t\t<li>Spam protection, only messages from <b>genuine people</b> to your inbox</li>\r\n",
      "\t</ul>\r\n",
      "\t<p>We are independent and don't sell your data. The service is completely free of ads and the common \"engagement traps\" found on the dominant networking platforms. <b>We won't distract you.</b></p>\r\n",
      "\r\n",
      "\t<div class=\"home-create\">\r\n",
      "\t\t<a href=\"/create/\" class=\"link-button submit\" style=\"color:white;\">Get your own page</a>\r\n",
      "\t</div>\r\n",
      "\t<div class=\"latest-bios\">\r\n",
      "\t<div style='margin-bottom: 6px;margin-top: 20px;text-transform: uppercase;font-size: 12px;font-weight: bolder;'>See how they use Plumebio:</div>\r\n",
      "\t\t<a href='https://plumebio.com/ashok'><div class='user-box'><b>Ashok Khanna</b> - Investor Relations professional<span class='location' style='display:flex;'>Sydney</span></div></a><a href='https://plumebio.com/galdecoa'><div class='user-box'><b>Gonzalo Alvarez</b> - Full-stack software developer<span class='location' style='display:flex;'>Madrid, Madrid</span></div></a><a href='https://plumebio.com/rms'><div class='user-box'><b>Richard Stallman</b> - Founder<span class='location' style='display:flex;'>East Boston, Mass</span></div></a><a href='https://plumebio.com/edisondotme'><div class='user-box'><b>Edison Orellana</b> - Spatial data engineer<span class='location' style='display:flex;'>Chicago, Illinois</span></div></a><a href='https://plumebio.com/edward'><div class='user-box'><b>Edward Betts</b> - Debian developer, Wikipedia admin<span class='location' style='display:flex;'>Cambridge, England</span></div></a>\t</div>\r\n",
      "</div>\r\n",
      "<footer>\r\n",
      "PlumeBio &copy; 2020\r\n",
      "<a href=\"/terms/\">Terms</a>\r\n",
      "<a href=\"/privacy/\">Privacy</a>\r\n",
      "<a href=\"/faq/\">FAQ</a>\r\n",
      "<a href=\"mailto:support@plumebio.com\">Contact</a>\r\n",
      "</footer>\r\n",
      "</body>\r\n",
      "</html>\r\n",
      "\n"
     ]
    }
   ],
   "source": [
    "print(r.text)"
   ]
  },
  {
   "cell_type": "code",
   "execution_count": null,
   "id": "5eea3730",
   "metadata": {
    "scrolled": true
   },
   "outputs": [],
   "source": [
    "page = \"https://www.freesoft.org/CIE/Topics/57.htm\""
   ]
  },
  {
   "cell_type": "code",
   "execution_count": null,
   "id": "849456a7",
   "metadata": {
    "scrolled": true
   },
   "outputs": [],
   "source": [
    "r = requests.get(page)"
   ]
  },
  {
   "cell_type": "code",
   "execution_count": null,
   "id": "f431ed95",
   "metadata": {
    "scrolled": true
   },
   "outputs": [],
   "source": [
    "r.url"
   ]
  },
  {
   "cell_type": "code",
   "execution_count": null,
   "id": "f9bb1187",
   "metadata": {
    "scrolled": true
   },
   "outputs": [],
   "source": [
    "fullHtmlText = r.text"
   ]
  },
  {
   "cell_type": "code",
   "execution_count": null,
   "id": "5139b432",
   "metadata": {
    "scrolled": false
   },
   "outputs": [],
   "source": [
    "print(fullHtmlText)"
   ]
  },
  {
   "cell_type": "markdown",
   "id": "8812ea38",
   "metadata": {},
   "source": [
    "### An example based on the GitHub REST API\n",
    "\n",
    "\n",
    "https://docs.github.com/en/rest/reference/users"
   ]
  },
  {
   "cell_type": "code",
   "execution_count": null,
   "id": "df4ac9a9",
   "metadata": {
    "scrolled": true
   },
   "outputs": [],
   "source": [
    "# default / example user, with authentication\n",
    "\n",
    "r = requests.get('https://api.github.com/users/user', auth = ('user', 'pass'))"
   ]
  },
  {
   "cell_type": "markdown",
   "id": "15728cfa",
   "metadata": {},
   "source": [
    "https://github.com/user\n",
    "\n",
    "Ops, she is a real human being ...\n",
    "Well, choosing \"user\" as alias maybe is not the best choice ever ;-D"
   ]
  },
  {
   "cell_type": "code",
   "execution_count": null,
   "id": "2a70e12e",
   "metadata": {
    "scrolled": true
   },
   "outputs": [],
   "source": [
    "r.text"
   ]
  },
  {
   "cell_type": "code",
   "execution_count": null,
   "id": "f47cbc39",
   "metadata": {
    "scrolled": true
   },
   "outputs": [],
   "source": [
    "r.status_code"
   ]
  },
  {
   "cell_type": "markdown",
   "id": "9b480364",
   "metadata": {},
   "source": [
    "https://en.wikipedia.org/wiki/List_of_HTTP_status_codes"
   ]
  },
  {
   "cell_type": "code",
   "execution_count": null,
   "id": "a7a01b8c",
   "metadata": {
    "scrolled": true
   },
   "outputs": [],
   "source": [
    "if r.status_code == 200:\n",
    "    print('Success!')\n",
    "elif r.status_code == 401:\n",
    "    print('Unauthorized')\n",
    "elif r.status_code == 404:\n",
    "    print('Not Found')"
   ]
  },
  {
   "cell_type": "code",
   "execution_count": null,
   "id": "049bddf0",
   "metadata": {
    "scrolled": true
   },
   "outputs": [],
   "source": [
    "if r:\n",
    "    print('Success!')\n",
    "else:\n",
    "    print('An error has occurred')"
   ]
  },
  {
   "cell_type": "code",
   "execution_count": null,
   "id": "99e1ce4c",
   "metadata": {
    "scrolled": true
   },
   "outputs": [],
   "source": [
    "r.json()\n",
    "\n",
    "# the type of the return value of .json() is a dictionary, so you can access values in the object by key"
   ]
  },
  {
   "cell_type": "code",
   "execution_count": null,
   "id": "ad8ec3db",
   "metadata": {
    "scrolled": true
   },
   "outputs": [],
   "source": [
    "json_response = r.json()\n",
    "json_response['location']"
   ]
  },
  {
   "cell_type": "code",
   "execution_count": null,
   "id": "a18eade8",
   "metadata": {
    "scrolled": true
   },
   "outputs": [],
   "source": [
    "r.encoding"
   ]
  },
  {
   "cell_type": "code",
   "execution_count": null,
   "id": "4b4d89a5",
   "metadata": {
    "scrolled": true
   },
   "outputs": [],
   "source": [
    "r.headers"
   ]
  },
  {
   "cell_type": "code",
   "execution_count": null,
   "id": "df01df34",
   "metadata": {
    "scrolled": true
   },
   "outputs": [],
   "source": [
    "r.headers['Last-Modified']"
   ]
  },
  {
   "cell_type": "code",
   "execution_count": null,
   "id": "f8122abc",
   "metadata": {
    "scrolled": true
   },
   "outputs": [],
   "source": [
    "# the end"
   ]
  }
 ],
 "metadata": {
  "kernelspec": {
   "display_name": "Python 3",
   "language": "python",
   "name": "python3"
  },
  "language_info": {
   "codemirror_mode": {
    "name": "ipython",
    "version": 3
   },
   "file_extension": ".py",
   "mimetype": "text/x-python",
   "name": "python",
   "nbconvert_exporter": "python",
   "pygments_lexer": "ipython3",
   "version": "3.8.3"
  }
 },
 "nbformat": 4,
 "nbformat_minor": 5
}
