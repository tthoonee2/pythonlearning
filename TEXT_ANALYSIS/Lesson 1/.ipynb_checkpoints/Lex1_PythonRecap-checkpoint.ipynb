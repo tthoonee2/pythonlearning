{
 "cells": [
  {
   "cell_type": "markdown",
   "metadata": {},
   "source": [
    "# Lesson 1 - Python recap"
   ]
  },
  {
   "cell_type": "markdown",
   "metadata": {},
   "source": [
    "## Strings"
   ]
  },
  {
   "cell_type": "code",
   "execution_count": 1,
   "metadata": {},
   "outputs": [
    {
     "name": "stdout",
     "output_type": "stream",
     "text": [
      "This is a Python introduction\n",
      "['This', 'is', 'a', 'Python', 'introduction']\n"
     ]
    }
   ],
   "source": [
    "# split a string\n",
    "\n",
    "text = 'This is a Python introduction'\n",
    "print(text)\n",
    "text = text.split() # default sep=' '\n",
    "print(text)"
   ]
  },
  {
   "cell_type": "code",
   "execution_count": null,
   "metadata": {},
   "outputs": [],
   "source": [
    "text = 'I saw the cat, and suddenly it disappeared'\n",
    "print(text)\n",
    "text = text.split(',') \n",
    "print(text)"
   ]
  },
  {
   "cell_type": "markdown",
   "metadata": {},
   "source": [
    "Indexing and slicing "
   ]
  },
  {
   "cell_type": "code",
   "execution_count": null,
   "metadata": {},
   "outputs": [],
   "source": [
    "t = 'New York'\n",
    "t[4]"
   ]
  },
  {
   "cell_type": "code",
   "execution_count": null,
   "metadata": {},
   "outputs": [],
   "source": [
    "# indexing from the beginning\n",
    "\n",
    "text = 'NEW YORK'\n",
    "\n",
    "print(text[1]) \n",
    "print(text[0:3]) \n",
    "print(text[40:80]) \n",
    "print(text[:3]) \n",
    "print(text[4:]) "
   ]
  },
  {
   "cell_type": "code",
   "execution_count": null,
   "metadata": {},
   "outputs": [],
   "source": [
    "# from the end\n",
    "\n",
    "text = 'NEW YORK'\n",
    "\n",
    "print(text[-1]) \n",
    "print(text[-7]) \n",
    "print(text[-8:-5]) \n",
    "print(text[-4:]) \n",
    "print(text[:-5])"
   ]
  },
  {
   "cell_type": "markdown",
   "metadata": {},
   "source": [
    "Replace"
   ]
  },
  {
   "cell_type": "code",
   "execution_count": null,
   "metadata": {},
   "outputs": [],
   "source": [
    "text = 'I love my dog and my little dog'\n",
    "print(text.replace('dog', 'cat', 1))"
   ]
  },
  {
   "cell_type": "code",
   "execution_count": null,
   "metadata": {},
   "outputs": [],
   "source": [
    "t = 'Python forever'\n",
    "t.replace('forever', 'whenever')"
   ]
  },
  {
   "cell_type": "markdown",
   "metadata": {},
   "source": [
    "Concatenation"
   ]
  },
  {
   "cell_type": "code",
   "execution_count": null,
   "metadata": {},
   "outputs": [],
   "source": [
    "text_1 = 'Hello'\n",
    "text_2 = 'World!'\n",
    "text_3 = text_1 + ' ' + text_2\n",
    "\n",
    "print(text_3)"
   ]
  },
  {
   "cell_type": "markdown",
   "metadata": {},
   "source": [
    "Strip"
   ]
  },
  {
   "cell_type": "code",
   "execution_count": null,
   "metadata": {
    "scrolled": true
   },
   "outputs": [],
   "source": [
    "text_1 = ' Pirelli Spa '\n",
    "print(text_1.strip()) # default is blank\n",
    "\n",
    "text_2 = 'Continental -'\n",
    "print(text_2.strip('-').strip())\n",
    "\n",
    "text_3 = '*Python***'\n",
    "print(text_3.lstrip('*')) # There is also \"rsplit\""
   ]
  },
  {
   "cell_type": "code",
   "execution_count": null,
   "metadata": {},
   "outputs": [],
   "source": [
    "# len function\n",
    "\n",
    "print(len('Bocconi'))\n",
    "print(len('Maneskin'))\n",
    "print(len(' some random words !! '))"
   ]
  },
  {
   "cell_type": "code",
   "execution_count": null,
   "metadata": {},
   "outputs": [],
   "source": [
    "# upper/lowercases\n",
    "\n",
    "text = 'MilaN'\n",
    "print(text.lower())\n",
    "print(text.upper())\n",
    "print(text.title())"
   ]
  },
  {
   "cell_type": "code",
   "execution_count": null,
   "metadata": {},
   "outputs": [],
   "source": [
    "## Lists"
   ]
  },
  {
   "cell_type": "code",
   "execution_count": null,
   "metadata": {},
   "outputs": [],
   "source": [
    "list_A = [1, 'A', 234, 'BATMAN']\n",
    "list_B = ['Na',' Nana', 'Nanana']\n",
    "list_C = [134.05, 87.13, 109, 13.14, 530000, 19]"
   ]
  },
  {
   "cell_type": "code",
   "execution_count": null,
   "metadata": {},
   "outputs": [],
   "source": [
    "print(list_A)      # print\n",
    "print(len(list_B)) # len\n",
    "print(list_C[3])   # slice : asking for just one item\n",
    "print(list_A[1:3]) # we're asking two items so the result will be a list\n",
    "print(list_B[:])"
   ]
  },
  {
   "cell_type": "code",
   "execution_count": null,
   "metadata": {},
   "outputs": [],
   "source": [
    "# concatenate\n",
    "\n",
    "[1, 'ABC'] + [1.0, [4, 98, 11.567]]\n",
    "# the same result can be achieved by using the following :\n",
    "# [1, 'ABC'].extend([1.0, [4, 98, 11.567]])"
   ]
  },
  {
   "cell_type": "code",
   "execution_count": null,
   "metadata": {},
   "outputs": [],
   "source": [
    "# append\n",
    "\n",
    "my_list = ['A', 'B', 'C']\n",
    "word = 'D'\n",
    "my_list.append(word)\n",
    "print(my_list)"
   ]
  },
  {
   "cell_type": "code",
   "execution_count": null,
   "metadata": {},
   "outputs": [],
   "source": [
    "# ordering elements\n",
    "\n",
    "small = [4, 5, 1, 9]\n",
    "print(small)\n",
    "small.sort(reverse=True) # Note that sort is an in-place function\n",
    "print(small)\n",
    "small.sort(reverse=False)\n",
    "print(small)\n",
    "\n",
    "print('-'*30)\n",
    "\n",
    "# unlike sort(), sorted creates a new copy of the list and doesn't change \n",
    "# the original list\n",
    "original = [4, 9, 1, 8, 0]\n",
    "print(original)\n",
    "print(sorted(original, reverse=False))\n",
    "print(original)"
   ]
  },
  {
   "cell_type": "code",
   "execution_count": null,
   "metadata": {},
   "outputs": [],
   "source": [
    "# remove\n",
    "\n",
    "list_1 = ['A', 'B', 'C', 'A', 'D', 'A']\n",
    "list_1.remove('A')\n",
    "print(list_1)"
   ]
  },
  {
   "cell_type": "code",
   "execution_count": null,
   "metadata": {},
   "outputs": [],
   "source": [
    "# pop\n",
    "\n",
    "list_2 = [1, 2, 3, 4, 5, 6]\n",
    "list_2.pop(2)\n",
    "print(list_2)\n",
    "\n",
    "list_2 = [1, 2, 3, 4, 5, 6]\n",
    "list_2.pop()\n",
    "print(list_2)"
   ]
  },
  {
   "cell_type": "code",
   "execution_count": null,
   "metadata": {},
   "outputs": [],
   "source": [
    "# del\n",
    "\n",
    "list_2 = [1, 2, 3, 4, 5, 6]\n",
    "del list_2[2]\n",
    "print(list_2)\n",
    "\n",
    "list_2 = [1, 2, 3, 4, 5, 6]\n",
    "del list_2[3:]\n",
    "print(list_2)"
   ]
  },
  {
   "cell_type": "code",
   "execution_count": null,
   "metadata": {},
   "outputs": [],
   "source": [
    "some_list = ['spam', 'ham', 'car', 'foo']\n",
    "some_list[2] = 'bar'\n",
    "print(some_list)"
   ]
  },
  {
   "cell_type": "code",
   "execution_count": null,
   "metadata": {},
   "outputs": [],
   "source": [
    "target_1 = 11\n",
    "my_vals = [1, 56, 876, 32, 11, 6, 9]\n",
    "\n",
    "print(target_1 in my_vals)"
   ]
  },
  {
   "cell_type": "code",
   "execution_count": null,
   "metadata": {},
   "outputs": [],
   "source": [
    "target_2 = 32\n",
    "print(target_2 not in my_vals)"
   ]
  },
  {
   "cell_type": "code",
   "execution_count": null,
   "metadata": {},
   "outputs": [],
   "source": [
    "## Dictionaries"
   ]
  },
  {
   "cell_type": "code",
   "execution_count": null,
   "metadata": {},
   "outputs": [],
   "source": [
    "dict_1 = {'A': 1, 'B': 3, 'D': 'X'}\n",
    "print(dict_1['D'])"
   ]
  },
  {
   "cell_type": "code",
   "execution_count": null,
   "metadata": {},
   "outputs": [],
   "source": [
    "shirt = {'color': 'red', 'size': 'M', 'quantity': 15}"
   ]
  },
  {
   "cell_type": "code",
   "execution_count": null,
   "metadata": {},
   "outputs": [],
   "source": [
    "shirt['quantity']"
   ]
  },
  {
   "cell_type": "code",
   "execution_count": null,
   "metadata": {},
   "outputs": [],
   "source": [
    "shirt['price'] = 45\n",
    "print(shirt)"
   ]
  },
  {
   "cell_type": "code",
   "execution_count": null,
   "metadata": {},
   "outputs": [],
   "source": [
    "del shirt['size']\n",
    "print(shirt)"
   ]
  },
  {
   "cell_type": "code",
   "execution_count": null,
   "metadata": {},
   "outputs": [],
   "source": [
    "print(shirt.keys())\n",
    "print(shirt.values())"
   ]
  },
  {
   "cell_type": "code",
   "execution_count": null,
   "metadata": {},
   "outputs": [],
   "source": [
    "## Functions"
   ]
  },
  {
   "cell_type": "code",
   "execution_count": null,
   "metadata": {},
   "outputs": [],
   "source": [
    "import numpy as np\n",
    "np.random.seed(42)\n",
    "\n",
    "data = np.random.rand(1,1_000).tolist()[0]\n",
    "std = np.std(data)\n",
    "mean = np.mean(data)\n",
    "median = np.median(data)\n",
    "min_val = min(data)\n",
    "max_val = max(data)\n",
    "\n",
    "for val in [std, mean, median, min_val, max_val]:\n",
    "    print(val)"
   ]
  },
  {
   "cell_type": "code",
   "execution_count": null,
   "metadata": {},
   "outputs": [],
   "source": [
    "def simple_stat(data, log=True):\n",
    "    \"\"\"Calculating simple statistics of a given list.\n",
    "    \n",
    "    For the the given list of numbers, calculates standard deviation, \n",
    "    Mean, Median, Minimum and Maximum statistics.\n",
    "\n",
    "    Args:\n",
    "        data : A list of numerical data.\n",
    "        log: If True, prints a simple report.\n",
    "        \n",
    "    Returns:\n",
    "        Return a list of the given numbers\n",
    "    \"\"\"\n",
    "    std = np.std(data)\n",
    "    mean = np.mean(data)\n",
    "    median = np.median(data)\n",
    "    min_val = min(data)\n",
    "    max_val = max(data)\n",
    "    \n",
    "    vals = [std, mean, median, min_val, max_val]\n",
    "    names = ['Standard deviation', 'Mean', 'Median', 'Min', 'Max']\n",
    "    \n",
    "    if log:\n",
    "        for name, val in zip(names, vals):\n",
    "            print(f'{name} : {val}')\n",
    "            #print(f'{name} : {round(val, 2)}')\n",
    "    return vals"
   ]
  },
  {
   "cell_type": "code",
   "execution_count": null,
   "metadata": {},
   "outputs": [],
   "source": [
    "import numpy as np"
   ]
  },
  {
   "cell_type": "code",
   "execution_count": null,
   "metadata": {},
   "outputs": [],
   "source": [
    "np.random.seed(42)\n",
    "\n",
    "data = np.random.rand(1,100_000).tolist()[0]\n",
    "results = simple_stat(data)"
   ]
  },
  {
   "cell_type": "code",
   "execution_count": null,
   "metadata": {},
   "outputs": [],
   "source": [
    "## Control flow structures"
   ]
  },
  {
   "cell_type": "code",
   "execution_count": null,
   "metadata": {},
   "outputs": [],
   "source": [
    "years = [1987, 1990, 1980, 1973]\n",
    "ages = [] # creating an empty list"
   ]
  },
  {
   "cell_type": "code",
   "execution_count": null,
   "metadata": {},
   "outputs": [],
   "source": [
    "# for loop\n",
    "\n",
    "ages = []\n",
    "for year in years:\n",
    "    age = 2019 - year\n",
    "    print(age)\n",
    "    ages.append(age)"
   ]
  },
  {
   "cell_type": "code",
   "execution_count": null,
   "metadata": {},
   "outputs": [],
   "source": [
    "num = 0                    # initial number is set to 0\n",
    "while num <= 10:           # while the number is less than or equal 10, continue\n",
    "    print(num, end='-')\n",
    "    num = num + 1          # adding one to the current value of the num = num+=1"
   ]
  },
  {
   "cell_type": "code",
   "execution_count": null,
   "metadata": {},
   "outputs": [],
   "source": [
    "for num in range(11):      # what is range?\n",
    "    print(num, end='\\t')"
   ]
  },
  {
   "cell_type": "code",
   "execution_count": null,
   "metadata": {},
   "outputs": [],
   "source": [
    "num = 0            # initial number is set to 0\n",
    "while num <= 20:   # while the number is less than or equal 20, continue\n",
    "    if num%2 != 0: # if the reminder of them with 2\n",
    "        print(num)\n",
    "    num = num + 1  # adding one to the current value of the num = num+=1"
   ]
  },
  {
   "cell_type": "code",
   "execution_count": null,
   "metadata": {},
   "outputs": [],
   "source": [
    "ages = [56, 2, 14, 8, 33, 23, 19, 80, 6, 9, 27]\n",
    "\n",
    "for age in ages:\n",
    "    if age <= 12:\n",
    "        print(age, 'Kid', sep=' - ')\n",
    "    elif age <= 19 and age >= 13:\n",
    "        print(age, 'Teen', sep=' - ')\n",
    "    elif age <= 60 and age >= 20:\n",
    "        print(f'{age} - Adult') # Did you noticed anything new here?\n",
    "    else:\n",
    "        print(age, 'Old', sep=' - ')"
   ]
  },
  {
   "cell_type": "code",
   "execution_count": null,
   "metadata": {},
   "outputs": [],
   "source": [
    "for i in range(10):\n",
    "    print(i)"
   ]
  },
  {
   "cell_type": "code",
   "execution_count": null,
   "metadata": {},
   "outputs": [],
   "source": [
    "my_list = ['ABC', 'BVG', 'UHY', 'UQH', 'LLL']\n",
    "for i in range(len(my_list)):\n",
    "    print(my_list[i])"
   ]
  },
  {
   "cell_type": "code",
   "execution_count": null,
   "metadata": {},
   "outputs": [],
   "source": [
    "target = {'A': [1.0, 5 ,7, 'foo'], \n",
    "          'B': [4, [12], '3', 83]}"
   ]
  },
  {
   "cell_type": "code",
   "execution_count": null,
   "metadata": {},
   "outputs": [],
   "source": [
    "for key in target:\n",
    "    for item in target[key]:\n",
    "        check = 0\n",
    "        if type(item) in [int, float] :\n",
    "            if item < 10 :\n",
    "                check = 1\n",
    "        elif type(item) == str:\n",
    "            if item.isnumeric():\n",
    "                if int(item) < 10 :\n",
    "                    check = 1\n",
    "        if check == 1:\n",
    "            print(item)    "
   ]
  },
  {
   "cell_type": "code",
   "execution_count": null,
   "metadata": {},
   "outputs": [],
   "source": [
    "def find_number(data, limit):\n",
    "    \"\"\"Finds the first number in a given list which is less than the defined threshold\n",
    "    \n",
    "    Args:\n",
    "        data : A list containing numerical values\n",
    "        limit : Threshold defined by user\n",
    "    \n",
    "    Returns:\n",
    "        The first number in the given list smaller than threshold\n",
    "    \"\"\"\n",
    "    for i in data:\n",
    "        if i < limit:\n",
    "            answer = i\n",
    "            break\n",
    "    return answer"
   ]
  },
  {
   "cell_type": "code",
   "execution_count": null,
   "metadata": {},
   "outputs": [],
   "source": [
    "nums = [4,6,7,5,1,3,9]\n",
    "limit = 2\n",
    "print(find_number(nums, limit))"
   ]
  },
  {
   "cell_type": "markdown",
   "metadata": {},
   "source": [
    "# The end"
   ]
  }
 ],
 "metadata": {
  "kernelspec": {
   "display_name": "Python 3",
   "language": "python",
   "name": "python3"
  },
  "language_info": {
   "codemirror_mode": {
    "name": "ipython",
    "version": 3
   },
   "file_extension": ".py",
   "mimetype": "text/x-python",
   "name": "python",
   "nbconvert_exporter": "python",
   "pygments_lexer": "ipython3",
   "version": "3.8.3"
  },
  "toc": {
   "base_numbering": 1,
   "nav_menu": {},
   "number_sections": true,
   "sideBar": true,
   "skip_h1_title": false,
   "title_cell": "Table of Contents",
   "title_sidebar": "Contents",
   "toc_cell": false,
   "toc_position": {
    "height": "863.333px",
    "left": "33px",
    "top": "135.722px",
    "width": "263.583px"
   },
   "toc_section_display": true,
   "toc_window_display": true
  }
 },
 "nbformat": 4,
 "nbformat_minor": 2
}
