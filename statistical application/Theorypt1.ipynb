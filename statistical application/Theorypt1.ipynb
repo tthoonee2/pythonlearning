{
    "cells": [
        {
            "cell_type": "markdown",
            "source": [
                "CHAPTER 2: PROBABILITY\r\n",
                "Let's begin with an example:\r\n",
                "we want to detect the probability of rolling two dices and getting the sum being 7\r\n",
                "thus if 'a' is the first dice and 'b' is the second one, what are the results:\r\n",
                "X : (a,b) --> (a+b)"
            ],
            "metadata": {}
        },
        {
            "cell_type": "code",
            "execution_count": 12,
            "source": [
                "d = {(i,j) : i+j for i in range(1,7) for j in range(1,7)}\r\n",
                "print(d)\r\n",
                "#here we created a dictionary containing all the combinations of the dices"
            ],
            "outputs": [
                {
                    "output_type": "stream",
                    "name": "stdout",
                    "text": [
                        "{(1, 1): 2, (1, 2): 3, (1, 3): 4, (1, 4): 5, (1, 5): 6, (1, 6): 7, (2, 1): 3, (2, 2): 4, (2, 3): 5, (2, 4): 6, (2, 5): 7, (2, 6): 8, (3, 1): 4, (3, 2): 5, (3, 3): 6, (3, 4): 7, (3, 5): 8, (3, 6): 9, (4, 1): 5, (4, 2): 6, (4, 3): 7, (4, 4): 8, (4, 5): 9, (4, 6): 10, (5, 1): 6, (5, 2): 7, (5, 3): 8, (5, 4): 9, (5, 5): 10, (5, 6): 11, (6, 1): 7, (6, 2): 8, (6, 3): 9, (6, 4): 10, (6, 5): 11, (6, 6): 12}\n"
                    ]
                }
            ],
            "metadata": {}
        },
        {
            "cell_type": "code",
            "execution_count": 7,
            "source": [
                "#we now have to collect all the pairs that sum up of the possibile values 2 to 12\r\n",
                "from collections import defaultdict #The defaultdict object fromthebuilt-incollections module creates dictionaries with default values when it encounters a new key\r\n",
                "dinv = defaultdict(list)\r\n",
                "for i , j in d.items():\r\n",
                "    dinv[j].append(i)\r\n",
                "\r\n",
                "print(dinv)\r\n"
            ],
            "outputs": [
                {
                    "output_type": "stream",
                    "name": "stdout",
                    "text": [
                        "defaultdict(<class 'list'>, {2: [(1, 1)], 3: [(1, 2), (2, 1)], 4: [(1, 3), (2, 2), (3, 1)], 5: [(1, 4), (2, 3), (3, 2), (4, 1)], 6: [(1, 5), (2, 4), (3, 3), (4, 2), (5, 1)], 7: [(1, 6), (2, 5), (3, 4), (4, 3), (5, 2), (6, 1)], 8: [(2, 6), (3, 5), (4, 4), (5, 3), (6, 2)], 9: [(3, 6), (4, 5), (5, 4), (6, 3)], 10: [(4, 6), (5, 5), (6, 4)], 11: [(5, 6), (6, 5)], 12: [(6, 6)]})\n"
                    ]
                }
            ],
            "metadata": {}
        },
        {
            "cell_type": "code",
            "execution_count": 8,
            "source": [
                "dinv[7]"
            ],
            "outputs": [
                {
                    "output_type": "execute_result",
                    "data": {
                        "text/plain": [
                            "[(1, 6), (2, 5), (3, 4), (4, 3), (5, 2), (6, 1)]"
                        ]
                    },
                    "metadata": {},
                    "execution_count": 8
                }
            ],
            "metadata": {}
        },
        {
            "cell_type": "code",
            "execution_count": 11,
            "source": [
                "#we now calculate the probability of each of the values to happen basd on the assumption that they are independent\r\n",
                "X = {i : len(j)/36. for i,j in dinv.items()}\r\n",
                "print(X)"
            ],
            "outputs": [
                {
                    "output_type": "stream",
                    "name": "stdout",
                    "text": [
                        "{2: 0.027777777777777776, 3: 0.05555555555555555, 4: 0.08333333333333333, 5: 0.1111111111111111, 6: 0.1388888888888889, 7: 0.16666666666666666, 8: 0.1388888888888889, 9: 0.1111111111111111, 10: 0.08333333333333333, 11: 0.05555555555555555, 12: 0.027777777777777776}\n"
                    ]
                }
            ],
            "metadata": {}
        },
        {
            "cell_type": "markdown",
            "source": [
                "We now Create other problems such as the following:\r\n",
                "\"what is the probability that half the product of three dice will exceed the their sum? We can solve this using\r\n",
                "the same method as in the following\""
            ],
            "metadata": {}
        },
        {
            "cell_type": "code",
            "execution_count": 1,
            "source": [
                "d = {(i,j,k) : ((i*j*k)/2> i+j+k) for i in range(1,7) for j in range(1,7) for k in range(1,7)}"
            ],
            "outputs": [],
            "metadata": {}
        },
        {
            "cell_type": "code",
            "execution_count": 5,
            "source": [
                "#now we do th inverse mapping in order to collect the corresponding list: \r\n",
                "from collections import defaultdict\r\n",
                "dinv = defaultdict(list)\r\n",
                "for i, j in d.items():\r\n",
                "    dinv[j].append(i)\r\n",
                "\r\n",
                "print(dinv) #now dinv contains only th two keys True and False"
            ],
            "outputs": [],
            "metadata": {}
        },
        {
            "cell_type": "code",
            "execution_count": 7,
            "source": [
                "#the problem contain only indpendent events, thus computations are easy:\r\n",
                "X = {i:len(j)/6.0**3 for i,j in dinv.items()} #since the probability of any triple is 1/6**3\r\n",
                "#positive outcomes are the len(j) while the total outcomes are given by the amount of elements within it which are 216 --> 136/216\r\n",
                "print(X)"
            ],
            "outputs": [
                {
                    "output_type": "stream",
                    "name": "stdout",
                    "text": [
                        "{False: 0.37037037037037035, True: 0.6296296296296297}\n"
                    ]
                }
            ],
            "metadata": {}
        },
        {
            "cell_type": "markdown",
            "source": [
                "FINAL EXAMPLE: using pandas and probability:\r\n",
                "et is consider the first problem with the two dice where we want the probability of a seven, but this time one of the dice is no longer fair. The distribution for the unfair die is the following:\r\n",
                "P({1}) = P({2}) = P({3}) = 1/9\r\n",
                "P({4}) = P({5}) = P({6}) = 2/9\r\n",
                "From the previous example we know that the elements which sum up to 7 are:\r\n",
                "(1,6),(2,5),(3,4),(4,3),(5,2),(6,1)\r\n",
                "but now each sum has different probability to happen since the dice is not fair."
            ],
            "metadata": {}
        },
        {
            "cell_type": "code",
            "execution_count": 11,
            "source": [
                "#instead of using dictionaries we will now compute the probabilities using Pandas:\r\n",
                "from pandas import DataFrame #import library\r\n",
                "df = DataFrame(index=[(i,j) for i in range(1,7) for j in range(1,7)], columns = ['sm','d1','d2','pd1','pd2','p']) #create rows and columns\r\n",
                "df.d1 = [ i[0] for i in df.index] #we now populate the columns with the outcomes --> d1 selects the column,\r\n",
                "# the 0 stands for the first value in the tuple of the index and i lets you interact with the rows for each spin \r\n",
                "df.d2 = [i[1] for i in df.index] #same here but selecting the second element of the tuple\r\n",
                "df.sm = list(map(sum,df.index))  #creates a list, with the sum  of the values in the indexes ( thus the throws )\r\n",
                "#map syntax --> map(fun, iter)\r\n",
                "df.head(10)"
            ],
            "outputs": [
                {
                    "output_type": "execute_result",
                    "data": {
                        "text/plain": [
                            "        sm  d1  d2  pd1  pd2    p\n",
                            "(1, 1)   2   1   1  NaN  NaN  NaN\n",
                            "(1, 2)   3   1   2  NaN  NaN  NaN\n",
                            "(1, 3)   4   1   3  NaN  NaN  NaN\n",
                            "(1, 4)   5   1   4  NaN  NaN  NaN\n",
                            "(1, 5)   6   1   5  NaN  NaN  NaN\n",
                            "(1, 6)   7   1   6  NaN  NaN  NaN\n",
                            "(2, 1)   3   2   1  NaN  NaN  NaN\n",
                            "(2, 2)   4   2   2  NaN  NaN  NaN\n",
                            "(2, 3)   5   2   3  NaN  NaN  NaN\n",
                            "(2, 4)   6   2   4  NaN  NaN  NaN"
                        ],
                        "text/html": [
                            "<div>\n",
                            "<style scoped>\n",
                            "    .dataframe tbody tr th:only-of-type {\n",
                            "        vertical-align: middle;\n",
                            "    }\n",
                            "\n",
                            "    .dataframe tbody tr th {\n",
                            "        vertical-align: top;\n",
                            "    }\n",
                            "\n",
                            "    .dataframe thead th {\n",
                            "        text-align: right;\n",
                            "    }\n",
                            "</style>\n",
                            "<table border=\"1\" class=\"dataframe\">\n",
                            "  <thead>\n",
                            "    <tr style=\"text-align: right;\">\n",
                            "      <th></th>\n",
                            "      <th>sm</th>\n",
                            "      <th>d1</th>\n",
                            "      <th>d2</th>\n",
                            "      <th>pd1</th>\n",
                            "      <th>pd2</th>\n",
                            "      <th>p</th>\n",
                            "    </tr>\n",
                            "  </thead>\n",
                            "  <tbody>\n",
                            "    <tr>\n",
                            "      <th>(1, 1)</th>\n",
                            "      <td>2</td>\n",
                            "      <td>1</td>\n",
                            "      <td>1</td>\n",
                            "      <td>NaN</td>\n",
                            "      <td>NaN</td>\n",
                            "      <td>NaN</td>\n",
                            "    </tr>\n",
                            "    <tr>\n",
                            "      <th>(1, 2)</th>\n",
                            "      <td>3</td>\n",
                            "      <td>1</td>\n",
                            "      <td>2</td>\n",
                            "      <td>NaN</td>\n",
                            "      <td>NaN</td>\n",
                            "      <td>NaN</td>\n",
                            "    </tr>\n",
                            "    <tr>\n",
                            "      <th>(1, 3)</th>\n",
                            "      <td>4</td>\n",
                            "      <td>1</td>\n",
                            "      <td>3</td>\n",
                            "      <td>NaN</td>\n",
                            "      <td>NaN</td>\n",
                            "      <td>NaN</td>\n",
                            "    </tr>\n",
                            "    <tr>\n",
                            "      <th>(1, 4)</th>\n",
                            "      <td>5</td>\n",
                            "      <td>1</td>\n",
                            "      <td>4</td>\n",
                            "      <td>NaN</td>\n",
                            "      <td>NaN</td>\n",
                            "      <td>NaN</td>\n",
                            "    </tr>\n",
                            "    <tr>\n",
                            "      <th>(1, 5)</th>\n",
                            "      <td>6</td>\n",
                            "      <td>1</td>\n",
                            "      <td>5</td>\n",
                            "      <td>NaN</td>\n",
                            "      <td>NaN</td>\n",
                            "      <td>NaN</td>\n",
                            "    </tr>\n",
                            "    <tr>\n",
                            "      <th>(1, 6)</th>\n",
                            "      <td>7</td>\n",
                            "      <td>1</td>\n",
                            "      <td>6</td>\n",
                            "      <td>NaN</td>\n",
                            "      <td>NaN</td>\n",
                            "      <td>NaN</td>\n",
                            "    </tr>\n",
                            "    <tr>\n",
                            "      <th>(2, 1)</th>\n",
                            "      <td>3</td>\n",
                            "      <td>2</td>\n",
                            "      <td>1</td>\n",
                            "      <td>NaN</td>\n",
                            "      <td>NaN</td>\n",
                            "      <td>NaN</td>\n",
                            "    </tr>\n",
                            "    <tr>\n",
                            "      <th>(2, 2)</th>\n",
                            "      <td>4</td>\n",
                            "      <td>2</td>\n",
                            "      <td>2</td>\n",
                            "      <td>NaN</td>\n",
                            "      <td>NaN</td>\n",
                            "      <td>NaN</td>\n",
                            "    </tr>\n",
                            "    <tr>\n",
                            "      <th>(2, 3)</th>\n",
                            "      <td>5</td>\n",
                            "      <td>2</td>\n",
                            "      <td>3</td>\n",
                            "      <td>NaN</td>\n",
                            "      <td>NaN</td>\n",
                            "      <td>NaN</td>\n",
                            "    </tr>\n",
                            "    <tr>\n",
                            "      <th>(2, 4)</th>\n",
                            "      <td>6</td>\n",
                            "      <td>2</td>\n",
                            "      <td>4</td>\n",
                            "      <td>NaN</td>\n",
                            "      <td>NaN</td>\n",
                            "      <td>NaN</td>\n",
                            "    </tr>\n",
                            "  </tbody>\n",
                            "</table>\n",
                            "</div>"
                        ]
                    },
                    "metadata": {},
                    "execution_count": 11
                }
            ],
            "metadata": {}
        },
        {
            "cell_type": "code",
            "execution_count": 16,
            "source": [
                "#lets fill the probabilities in it:\r\n",
                "df.loc[df.d1 <=3, 'pd1'] = 1/9\r\n",
                "df.loc[df.d1 >3, 'pd1' ] = 2/9\r\n",
                "df.pd2  = 1/6\r\n",
                "df.head(10)"
            ],
            "outputs": [
                {
                    "output_type": "execute_result",
                    "data": {
                        "text/plain": [
                            "        sm  d1  d2       pd1       pd2    p\n",
                            "(1, 1)   2   1   1  0.111111  0.166667  NaN\n",
                            "(1, 2)   3   1   2  0.111111  0.166667  NaN\n",
                            "(1, 3)   4   1   3  0.111111  0.166667  NaN\n",
                            "(1, 4)   5   1   4  0.111111  0.166667  NaN\n",
                            "(1, 5)   6   1   5  0.111111  0.166667  NaN\n",
                            "(1, 6)   7   1   6  0.111111  0.166667  NaN\n",
                            "(2, 1)   3   2   1  0.111111  0.166667  NaN\n",
                            "(2, 2)   4   2   2  0.111111  0.166667  NaN\n",
                            "(2, 3)   5   2   3  0.111111  0.166667  NaN\n",
                            "(2, 4)   6   2   4  0.111111  0.166667  NaN"
                        ],
                        "text/html": [
                            "<div>\n",
                            "<style scoped>\n",
                            "    .dataframe tbody tr th:only-of-type {\n",
                            "        vertical-align: middle;\n",
                            "    }\n",
                            "\n",
                            "    .dataframe tbody tr th {\n",
                            "        vertical-align: top;\n",
                            "    }\n",
                            "\n",
                            "    .dataframe thead th {\n",
                            "        text-align: right;\n",
                            "    }\n",
                            "</style>\n",
                            "<table border=\"1\" class=\"dataframe\">\n",
                            "  <thead>\n",
                            "    <tr style=\"text-align: right;\">\n",
                            "      <th></th>\n",
                            "      <th>sm</th>\n",
                            "      <th>d1</th>\n",
                            "      <th>d2</th>\n",
                            "      <th>pd1</th>\n",
                            "      <th>pd2</th>\n",
                            "      <th>p</th>\n",
                            "    </tr>\n",
                            "  </thead>\n",
                            "  <tbody>\n",
                            "    <tr>\n",
                            "      <th>(1, 1)</th>\n",
                            "      <td>2</td>\n",
                            "      <td>1</td>\n",
                            "      <td>1</td>\n",
                            "      <td>0.111111</td>\n",
                            "      <td>0.166667</td>\n",
                            "      <td>NaN</td>\n",
                            "    </tr>\n",
                            "    <tr>\n",
                            "      <th>(1, 2)</th>\n",
                            "      <td>3</td>\n",
                            "      <td>1</td>\n",
                            "      <td>2</td>\n",
                            "      <td>0.111111</td>\n",
                            "      <td>0.166667</td>\n",
                            "      <td>NaN</td>\n",
                            "    </tr>\n",
                            "    <tr>\n",
                            "      <th>(1, 3)</th>\n",
                            "      <td>4</td>\n",
                            "      <td>1</td>\n",
                            "      <td>3</td>\n",
                            "      <td>0.111111</td>\n",
                            "      <td>0.166667</td>\n",
                            "      <td>NaN</td>\n",
                            "    </tr>\n",
                            "    <tr>\n",
                            "      <th>(1, 4)</th>\n",
                            "      <td>5</td>\n",
                            "      <td>1</td>\n",
                            "      <td>4</td>\n",
                            "      <td>0.111111</td>\n",
                            "      <td>0.166667</td>\n",
                            "      <td>NaN</td>\n",
                            "    </tr>\n",
                            "    <tr>\n",
                            "      <th>(1, 5)</th>\n",
                            "      <td>6</td>\n",
                            "      <td>1</td>\n",
                            "      <td>5</td>\n",
                            "      <td>0.111111</td>\n",
                            "      <td>0.166667</td>\n",
                            "      <td>NaN</td>\n",
                            "    </tr>\n",
                            "    <tr>\n",
                            "      <th>(1, 6)</th>\n",
                            "      <td>7</td>\n",
                            "      <td>1</td>\n",
                            "      <td>6</td>\n",
                            "      <td>0.111111</td>\n",
                            "      <td>0.166667</td>\n",
                            "      <td>NaN</td>\n",
                            "    </tr>\n",
                            "    <tr>\n",
                            "      <th>(2, 1)</th>\n",
                            "      <td>3</td>\n",
                            "      <td>2</td>\n",
                            "      <td>1</td>\n",
                            "      <td>0.111111</td>\n",
                            "      <td>0.166667</td>\n",
                            "      <td>NaN</td>\n",
                            "    </tr>\n",
                            "    <tr>\n",
                            "      <th>(2, 2)</th>\n",
                            "      <td>4</td>\n",
                            "      <td>2</td>\n",
                            "      <td>2</td>\n",
                            "      <td>0.111111</td>\n",
                            "      <td>0.166667</td>\n",
                            "      <td>NaN</td>\n",
                            "    </tr>\n",
                            "    <tr>\n",
                            "      <th>(2, 3)</th>\n",
                            "      <td>5</td>\n",
                            "      <td>2</td>\n",
                            "      <td>3</td>\n",
                            "      <td>0.111111</td>\n",
                            "      <td>0.166667</td>\n",
                            "      <td>NaN</td>\n",
                            "    </tr>\n",
                            "    <tr>\n",
                            "      <th>(2, 4)</th>\n",
                            "      <td>6</td>\n",
                            "      <td>2</td>\n",
                            "      <td>4</td>\n",
                            "      <td>0.111111</td>\n",
                            "      <td>0.166667</td>\n",
                            "      <td>NaN</td>\n",
                            "    </tr>\n",
                            "  </tbody>\n",
                            "</table>\n",
                            "</div>"
                        ]
                    },
                    "metadata": {},
                    "execution_count": 16
                }
            ],
            "metadata": {}
        },
        {
            "cell_type": "code",
            "execution_count": 17,
            "source": [
                "#joint probabilities --> indipendent events:\r\n",
                "df.p = df.pd1 * df.pd2\r\n",
                "df.head(5)"
            ],
            "outputs": [
                {
                    "output_type": "execute_result",
                    "data": {
                        "text/plain": [
                            "        sm  d1  d2       pd1       pd2         p\n",
                            "(1, 1)   2   1   1  0.111111  0.166667  0.018519\n",
                            "(1, 2)   3   1   2  0.111111  0.166667  0.018519\n",
                            "(1, 3)   4   1   3  0.111111  0.166667  0.018519\n",
                            "(1, 4)   5   1   4  0.111111  0.166667  0.018519\n",
                            "(1, 5)   6   1   5  0.111111  0.166667  0.018519"
                        ],
                        "text/html": [
                            "<div>\n",
                            "<style scoped>\n",
                            "    .dataframe tbody tr th:only-of-type {\n",
                            "        vertical-align: middle;\n",
                            "    }\n",
                            "\n",
                            "    .dataframe tbody tr th {\n",
                            "        vertical-align: top;\n",
                            "    }\n",
                            "\n",
                            "    .dataframe thead th {\n",
                            "        text-align: right;\n",
                            "    }\n",
                            "</style>\n",
                            "<table border=\"1\" class=\"dataframe\">\n",
                            "  <thead>\n",
                            "    <tr style=\"text-align: right;\">\n",
                            "      <th></th>\n",
                            "      <th>sm</th>\n",
                            "      <th>d1</th>\n",
                            "      <th>d2</th>\n",
                            "      <th>pd1</th>\n",
                            "      <th>pd2</th>\n",
                            "      <th>p</th>\n",
                            "    </tr>\n",
                            "  </thead>\n",
                            "  <tbody>\n",
                            "    <tr>\n",
                            "      <th>(1, 1)</th>\n",
                            "      <td>2</td>\n",
                            "      <td>1</td>\n",
                            "      <td>1</td>\n",
                            "      <td>0.111111</td>\n",
                            "      <td>0.166667</td>\n",
                            "      <td>0.018519</td>\n",
                            "    </tr>\n",
                            "    <tr>\n",
                            "      <th>(1, 2)</th>\n",
                            "      <td>3</td>\n",
                            "      <td>1</td>\n",
                            "      <td>2</td>\n",
                            "      <td>0.111111</td>\n",
                            "      <td>0.166667</td>\n",
                            "      <td>0.018519</td>\n",
                            "    </tr>\n",
                            "    <tr>\n",
                            "      <th>(1, 3)</th>\n",
                            "      <td>4</td>\n",
                            "      <td>1</td>\n",
                            "      <td>3</td>\n",
                            "      <td>0.111111</td>\n",
                            "      <td>0.166667</td>\n",
                            "      <td>0.018519</td>\n",
                            "    </tr>\n",
                            "    <tr>\n",
                            "      <th>(1, 4)</th>\n",
                            "      <td>5</td>\n",
                            "      <td>1</td>\n",
                            "      <td>4</td>\n",
                            "      <td>0.111111</td>\n",
                            "      <td>0.166667</td>\n",
                            "      <td>0.018519</td>\n",
                            "    </tr>\n",
                            "    <tr>\n",
                            "      <th>(1, 5)</th>\n",
                            "      <td>6</td>\n",
                            "      <td>1</td>\n",
                            "      <td>5</td>\n",
                            "      <td>0.111111</td>\n",
                            "      <td>0.166667</td>\n",
                            "      <td>0.018519</td>\n",
                            "    </tr>\n",
                            "  </tbody>\n",
                            "</table>\n",
                            "</div>"
                        ]
                    },
                    "metadata": {},
                    "execution_count": 17
                }
            ],
            "metadata": {}
        },
        {
            "cell_type": "code",
            "execution_count": null,
            "source": [],
            "outputs": [],
            "metadata": {}
        }
    ],
    "metadata": {
        "orig_nbformat": 4,
        "language_info": {
            "name": "python",
            "version": "3.8.3",
            "mimetype": "text/x-python",
            "codemirror_mode": {
                "name": "ipython",
                "version": 3
            },
            "pygments_lexer": "ipython3",
            "nbconvert_exporter": "python",
            "file_extension": ".py"
        },
        "kernelspec": {
            "name": "python3",
            "display_name": "Python 3.8.3 64-bit ('base': conda)"
        },
        "interpreter": {
            "hash": "d6b1a2b032f22042168ca035e812c06e4e4b5e8112eade02676d586b64cc854d"
        }
    },
    "nbformat": 4,
    "nbformat_minor": 2
}