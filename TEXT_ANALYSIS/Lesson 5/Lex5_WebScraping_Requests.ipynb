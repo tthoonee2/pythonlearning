{
 "cells": [
  {
   "cell_type": "markdown",
   "id": "deda55ac",
   "metadata": {},
   "source": [
    "# Lesson 5\n",
    "\n",
    "### Web Scraping with requests"
   ]
  },
  {
   "cell_type": "markdown",
   "id": "643dbbb2",
   "metadata": {},
   "source": [
    "https://pypi.org/project/requests/\n",
    "\n",
    "https://docs.python-requests.org/en/master/\n"
   ]
  },
  {
   "cell_type": "code",
   "execution_count": 1,
   "id": "bdad6d7d",
   "metadata": {
    "scrolled": true
   },
   "outputs": [],
   "source": [
    "import requests"
   ]
  },
  {
   "cell_type": "code",
   "execution_count": 2,
   "id": "7efbfbf2",
   "metadata": {
    "scrolled": true
   },
   "outputs": [
    {
     "name": "stdout",
     "output_type": "stream",
     "text": [
      "Help on package requests:\n",
      "\n",
      "NAME\n",
      "    requests\n",
      "\n",
      "DESCRIPTION\n",
      "    Requests HTTP Library\n",
      "    ~~~~~~~~~~~~~~~~~~~~~\n",
      "    \n",
      "    Requests is an HTTP library, written in Python, for human beings.\n",
      "    Basic GET usage:\n",
      "    \n",
      "       >>> import requests\n",
      "       >>> r = requests.get('https://www.python.org')\n",
      "       >>> r.status_code\n",
      "       200\n",
      "       >>> b'Python is a programming language' in r.content\n",
      "       True\n",
      "    \n",
      "    ... or POST:\n",
      "    \n",
      "       >>> payload = dict(key1='value1', key2='value2')\n",
      "       >>> r = requests.post('https://httpbin.org/post', data=payload)\n",
      "       >>> print(r.text)\n",
      "       {\n",
      "         ...\n",
      "         \"form\": {\n",
      "           \"key1\": \"value1\",\n",
      "           \"key2\": \"value2\"\n",
      "         },\n",
      "         ...\n",
      "       }\n",
      "    \n",
      "    The other HTTP methods are supported - see `requests.api`. Full documentation\n",
      "    is at <https://requests.readthedocs.io>.\n",
      "    \n",
      "    :copyright: (c) 2017 by Kenneth Reitz.\n",
      "    :license: Apache 2.0, see LICENSE for more details.\n",
      "\n",
      "PACKAGE CONTENTS\n",
      "    __version__\n",
      "    _internal_utils\n",
      "    adapters\n",
      "    api\n",
      "    auth\n",
      "    certs\n",
      "    compat\n",
      "    cookies\n",
      "    exceptions\n",
      "    help\n",
      "    hooks\n",
      "    models\n",
      "    packages\n",
      "    sessions\n",
      "    status_codes\n",
      "    structures\n",
      "    utils\n",
      "\n",
      "FUNCTIONS\n",
      "    check_compatibility(urllib3_version, chardet_version)\n",
      "\n",
      "DATA\n",
      "    __author_email__ = 'me@kennethreitz.org'\n",
      "    __build__ = 140545\n",
      "    __cake__ = '✨ 🍰 ✨'\n",
      "    __copyright__ = 'Copyright 2020 Kenneth Reitz'\n",
      "    __description__ = 'Python HTTP for Humans.'\n",
      "    __license__ = 'Apache 2.0'\n",
      "    __title__ = 'requests'\n",
      "    __url__ = 'https://requests.readthedocs.io'\n",
      "    codes = <lookup 'status_codes'>\n",
      "\n",
      "VERSION\n",
      "    2.25.1\n",
      "\n",
      "AUTHOR\n",
      "    Kenneth Reitz\n",
      "\n",
      "FILE\n",
      "    w:\\programmi\\anaconda\\lib\\site-packages\\requests\\__init__.py\n",
      "\n",
      "\n"
     ]
    }
   ],
   "source": [
    "help(requests)"
   ]
  },
  {
   "cell_type": "code",
   "execution_count": 3,
   "id": "d37fbfc6",
   "metadata": {
    "scrolled": true
   },
   "outputs": [
    {
     "data": {
      "text/plain": [
       "['ConnectTimeout',\n",
       " 'ConnectionError',\n",
       " 'DependencyWarning',\n",
       " 'FileModeWarning',\n",
       " 'HTTPError',\n",
       " 'NullHandler',\n",
       " 'PreparedRequest',\n",
       " 'ReadTimeout',\n",
       " 'Request',\n",
       " 'RequestException',\n",
       " 'RequestsDependencyWarning',\n",
       " 'Response',\n",
       " 'Session',\n",
       " 'Timeout',\n",
       " 'TooManyRedirects',\n",
       " 'URLRequired',\n",
       " '__author__',\n",
       " '__author_email__',\n",
       " '__build__',\n",
       " '__builtins__',\n",
       " '__cached__',\n",
       " '__cake__',\n",
       " '__copyright__',\n",
       " '__description__',\n",
       " '__doc__',\n",
       " '__file__',\n",
       " '__license__',\n",
       " '__loader__',\n",
       " '__name__',\n",
       " '__package__',\n",
       " '__path__',\n",
       " '__spec__',\n",
       " '__title__',\n",
       " '__url__',\n",
       " '__version__',\n",
       " '_check_cryptography',\n",
       " '_internal_utils',\n",
       " 'adapters',\n",
       " 'api',\n",
       " 'auth',\n",
       " 'certs',\n",
       " 'chardet',\n",
       " 'check_compatibility',\n",
       " 'codes',\n",
       " 'compat',\n",
       " 'cookies',\n",
       " 'delete',\n",
       " 'exceptions',\n",
       " 'get',\n",
       " 'head',\n",
       " 'hooks',\n",
       " 'logging',\n",
       " 'models',\n",
       " 'options',\n",
       " 'packages',\n",
       " 'patch',\n",
       " 'post',\n",
       " 'put',\n",
       " 'request',\n",
       " 'session',\n",
       " 'sessions',\n",
       " 'ssl',\n",
       " 'status_codes',\n",
       " 'structures',\n",
       " 'urllib3',\n",
       " 'utils',\n",
       " 'warnings']"
      ]
     },
     "execution_count": 3,
     "metadata": {},
     "output_type": "execute_result"
    }
   ],
   "source": [
    "dir(requests)"
   ]
  },
  {
   "cell_type": "markdown",
   "id": "ff616eba",
   "metadata": {},
   "source": [
    "### An example based on \"Text-only websites\"\n",
    "\n",
    "\n",
    "https://sjmulder.nl/en/textonly.html \n",
    "--> This is a directory of websites that primarily stick with simple, marked up, hyperlinked text.\n",
    "\n"
   ]
  },
  {
   "cell_type": "code",
   "execution_count": 4,
   "id": "e29ea84d",
   "metadata": {
    "scrolled": true
   },
   "outputs": [],
   "source": [
    "page = \"https://plumebio.com/\""
   ]
  },
  {
   "cell_type": "code",
   "execution_count": 5,
   "id": "c5ed649e",
   "metadata": {
    "scrolled": true
   },
   "outputs": [],
   "source": [
    "r = requests.get(page)"
   ]
  },
  {
   "cell_type": "code",
   "execution_count": 6,
   "id": "932625d3",
   "metadata": {
    "scrolled": true
   },
   "outputs": [
    {
     "name": "stdout",
     "output_type": "stream",
     "text": [
      "<!DOCTYPE html>\r\n",
      "<html lang=\"en\">\r\n",
      "<head>\r\n",
      "    <meta name=\"referrer\" content=\"origin\">\r\n",
      "    <meta charset=\"UTF-8\">\r\n",
      "    <meta name=\"viewport\" content=\"width=device-width, initial-scale=1\">\r\n",
      "    <meta name=\"description\" content=\"A simple and friendly personal bio to express who you are, what you do, and give others a safe way to contact you.\">\r\n",
      "    <meta name=\"author\" content=\"PlumeBio\">\r\n",
      "    <title>PlumeBio - write your personal bio</title>\r\n",
      "    <link rel=\"stylesheet\" href=\"/style.css\">\r\n",
      "    <link rel=\"shortcut icon\" href=\"/favicon.ico\">\r\n",
      "\r\n",
      "    </head>\r\n",
      "<body>\r\n",
      "    <div class=\"header\">\r\n",
      "        <a href=\"/\" style=\"text-decoration: none;\">\r\n",
      "            <div class=\"logo\">\r\n",
      "                <svg class=\"logo-icon\" height='20px' width='20px'  fill=\"#000000\" xmlns=\"http://www.w3.org/2000/svg\" viewBox=\"0 0 100 100\" x=\"0px\" y=\"0px\"><path fill=\"#084468\" d=\"M14,98H74A12,12,0,0,0,86,86V74a4,4,0,0,0-8,0V86a4,4,0,0,1-4,4H14a4,4,0,0,1-4-4V26a4,4,0,0,1,4-4H26a4,4,0,0,0,0-8H14A12,12,0,0,0,2,26V86A12,12,0,0,0,14,98Z\"></path><path fill=\"#084468\" d=\"M98,6a4,4,0,0,0-4-4H86A56.06,56.06,0,0,0,30,58v6.34L19.17,75.17a4,4,0,0,0,5.66,5.66L35.66,70H42A56,56,0,0,0,83.85,51.13a4,4,0,0,0,.21-5.06l-5.88-8a.14.14,0,0,1,.15-.09H90a4,4,0,0,0,3.69-2.46A55.63,55.63,0,0,0,98,14Zm-8,8a47.71,47.71,0,0,1-2.74,16H78.33A8.17,8.17,0,0,0,71.8,43.07l3.83,5.1A48,48,0,0,1,42,62H38V58A48.05,48.05,0,0,1,86,10h4Z\"></path></svg>\r\n",
      "                <div class=\"logo-text\">PlumeBio</div>\r\n",
      "            </div>\r\n",
      "        </a>\r\n",
      "        <nav>\r\n",
      "    \t   <a href=\"/search/\">Search</a>\r\n",
      "    \t   <a href=\"/edit/\">Edit</a>\r\n",
      "            <a href=\"/create/\">Create</a> \r\n",
      "        </nav>\r\n",
      "    </div>\r\n",
      "<div class=\"container\">\r\n",
      "\t<h1>A place for your story</h1>\r\n",
      "\t<p><b>A friendly way to promote who you are and what you do in one link.</b></p>\r\n",
      "\t\t<ul class=\"list\">\r\n",
      "\t\t\t<li>Express your <b>full self</b>, unfettered by templates</li>\r\n",
      "\t\t\t<li>Grow your presence, <b>so people can find you</b></li>\r\n",
      "\t\t\t<li>Get <b>clients</b> and grow your <b>audience</b></li>\r\n",
      "\t\t</ul>\r\n",
      "\tYour PlumeBio includes:\r\n",
      "\t<ul class=\"list\">\r\n",
      "\t\t<li><i>plumebio.com/<b>yourname</b></i> link that you can share</li>\r\n",
      "\t\t<li><b>Contact Me</b> form to receive messages from visitors without disclosing your email</li>\r\n",
      "\t\t<li>Spam protection, only messages from <b>genuine people</b> to your inbox</li>\r\n",
      "\t</ul>\r\n",
      "\t<p>We are independent and don't sell your data. The service is completely free of ads and the common \"engagement traps\" found on the dominant networking platforms. <b>We won't distract you.</b></p>\r\n",
      "\r\n",
      "\t<div class=\"home-create\">\r\n",
      "\t\t<a href=\"/create/\" class=\"link-button submit\" style=\"color:white;\">Get your own page</a>\r\n",
      "\t</div>\r\n",
      "\t<div class=\"latest-bios\">\r\n",
      "\t<div style='margin-bottom: 6px;margin-top: 20px;text-transform: uppercase;font-size: 12px;font-weight: bolder;'>See how they use Plumebio:</div>\r\n",
      "\t\t<a href='https://plumebio.com/ashok'><div class='user-box'><b>Ashok Khanna</b> - Investor Relations professional<span class='location' style='display:flex;'>Sydney</span></div></a><a href='https://plumebio.com/galdecoa'><div class='user-box'><b>Gonzalo Alvarez</b> - Full-stack software developer<span class='location' style='display:flex;'>Madrid, Madrid</span></div></a><a href='https://plumebio.com/rms'><div class='user-box'><b>Richard Stallman</b> - Founder<span class='location' style='display:flex;'>East Boston, Mass</span></div></a><a href='https://plumebio.com/edisondotme'><div class='user-box'><b>Edison Orellana</b> - Spatial data engineer<span class='location' style='display:flex;'>Chicago, Illinois</span></div></a><a href='https://plumebio.com/edward'><div class='user-box'><b>Edward Betts</b> - Debian developer, Wikipedia admin<span class='location' style='display:flex;'>Cambridge, England</span></div></a>\t</div>\r\n",
      "</div>\r\n",
      "<footer>\r\n",
      "PlumeBio &copy; 2020\r\n",
      "<a href=\"/terms/\">Terms</a>\r\n",
      "<a href=\"/privacy/\">Privacy</a>\r\n",
      "<a href=\"/faq/\">FAQ</a>\r\n",
      "<a href=\"mailto:support@plumebio.com\">Contact</a>\r\n",
      "</footer>\r\n",
      "</body>\r\n",
      "</html>\r\n",
      "\n"
     ]
    }
   ],
   "source": [
    "print(r.text)"
   ]
  },
  {
   "cell_type": "code",
   "execution_count": 7,
   "id": "5eea3730",
   "metadata": {
    "scrolled": true
   },
   "outputs": [],
   "source": [
    "page = \"https://www.freesoft.org/CIE/Topics/57.htm\""
   ]
  },
  {
   "cell_type": "code",
   "execution_count": 8,
   "id": "849456a7",
   "metadata": {
    "scrolled": true
   },
   "outputs": [],
   "source": [
    "r = requests.get(page)"
   ]
  },
  {
   "cell_type": "code",
   "execution_count": 9,
   "id": "f431ed95",
   "metadata": {
    "scrolled": true
   },
   "outputs": [
    {
     "data": {
      "text/plain": [
       "'https://www.freesoft.org/CIE/Topics/57.htm'"
      ]
     },
     "execution_count": 9,
     "metadata": {},
     "output_type": "execute_result"
    }
   ],
   "source": [
    "r.url"
   ]
  },
  {
   "cell_type": "code",
   "execution_count": 10,
   "id": "f9bb1187",
   "metadata": {
    "scrolled": true
   },
   "outputs": [],
   "source": [
    "fullHtmlText = r.text"
   ]
  },
  {
   "cell_type": "code",
   "execution_count": 11,
   "id": "5139b432",
   "metadata": {
    "scrolled": false
   },
   "outputs": [
    {
     "name": "stdout",
     "output_type": "stream",
     "text": [
      "<HTML>\n",
      "<HEAD>\n",
      "<TITLE>Internet History</TITLE>\n",
      "</HEAD>\n",
      "<BODY>\n",
      "<SCRIPT type=\"text/javascript\" src=\"../pagetop.js\"></SCRIPT>\n",
      "<B>Connected: An Internet Encyclopedia</B>\n",
      "<BR>\n",
      "<EM>Internet History</EM><BR>\n",
      "<HR><CENTER>\n",
      "<B>Up:</B>\n",
      "<A HREF=\"../index.htm\">Connected: An Internet Encyclopedia</A><BR>\n",
      "<B>Up:</B>\n",
      "<A HREF=\"index.htm\">Topics</A><BR>\n",
      "</CENTER>\n",
      "<B>Prev:</B> <A HREF=\"index.htm\">Topics</A><BR>\n",
      "<B>Next:</B> <A HREF=\"67.htm\">Internet Organization</A><BR>\n",
      "<HR><P>\n",
      "<H3>Internet History</H3><P>\n",
      "<TITLE>Internet History</TITLE>\n",
      "\n",
      "<P>\n",
      "\n",
      "<H4>1969 - Birth of a Network</H4>\n",
      "<P>\n",
      "The Internet as we know it today, in the mid-1990s, traces it origins\n",
      "back to a Defense Department project in 1969.  The subject of the\n",
      "project was wartime digital communications.  At that time\n",
      "the telephone system was about\n",
      "the only theater-scale communications system in use.\n",
      "A major problem had been identified in its design - its dependence\n",
      "on switching stations that could be targeted during an attack.\n",
      "Would it be possible to design a network that could quickly\n",
      "reroute digital traffic around failed nodes?\n",
      "A possible solution had been identified in theory.  That was\n",
      "to build a \"web\" of datagram network, called an \"catenet\",\n",
      "and use dynamic routing protocols to constantly adjust the\n",
      "flow of traffic through the catenet.\n",
      "The Defense Advanced Research Projects Agency (DARPA) launched\n",
      "the DARPA Internet Program.\n",
      "<P>\n",
      "\n",
      "<H4>1970s - Infancy</H4>\n",
      "<P>\n",
      "DARPA Internet, largely the plaything of academic and military researchers,\n",
      "spent more than a decade in relative obscurity.  As Vietnam, Watergate, the\n",
      "Oil Crisis, and the Iranian Hostage Crisis rolled over the nation,\n",
      "several Internet research teams proceeded through a gradual evolution\n",
      "of protocols.\n",
      "In 1975, DARPA declared the project a success and handed its management\n",
      "over to the Defense Communications Agency.\n",
      "Several of today's key protocols (including IP and TCP) were stable\n",
      "by 1980, and adopted throughout ARPANET by 1983.\n",
      "<P>\n",
      "<H4>Mid 1980s - The Research Net</H4>\n",
      "<P>\n",
      "Let's outline key features, circa-1983, of what was then called\n",
      "ARPANET.  A small computer was a PDP-11/45, and a PDP-11/45 does not\n",
      "fit on your desk.  Some sites had a hundred computers attached\n",
      "to the Internet.  Most had a dozen or so, probably with something\n",
      "like a VAX doing most of the work - mail, news, EGP routing.\n",
      "Users did their work using DEC VT-100 terminals.  FORTRAN was the\n",
      "word of the day.\n",
      "Few companies had Internet access, relying instead on\n",
      "SNA and IBM mainframes.  Rather, the Internet community was dominated\n",
      "by universities and military research sites.  It's most popular\n",
      "service was the rapid email it made possible with distant colleagues.\n",
      "In August 1983, there were 562 registered ARPANET hosts (RFC 1296).\n",
      "<P>\n",
      "UNIX deserves at least an honorable mention, since\n",
      "almost all the initial Internet protocols were developed first\n",
      "for UNIX, largely due to the availability of kernel source (for a price)\n",
      "and the relative ease of implementation\n",
      "(relative to things like VMS or MVS).\n",
      "The University of California at Berkeley (UCB) deserves special mention,\n",
      "because their Computer Science Research Group (CSRG) developed\n",
      "the BSD variants of AT&amp;T's UNIX operating system.  BSD UNIX\n",
      "and its derivatives would become the most common Internet programming\n",
      "platform.\n",
      "<P>\n",
      "Many key features of the Internet were already in place,\n",
      "including the IP and TCP protocols.  ARPANET was fundamentally\n",
      "unreliable in nature, as the Internet is still today.  This\n",
      "principle of unreliable delivery\n",
      "means that the Internet only makes a\n",
      "best-effort attempt to deliver packets.  The network can\n",
      "drop a packet without any notification to sender or receiver.\n",
      "Remember, the Internet was designed for military survivability.\n",
      "The software running on either end must be prepared to recognize\n",
      "data loss, retransmitting data as often as necessary to achieve\n",
      "its ultimate delivery.\n",
      "<P>\n",
      "<H4>Late 1980s - The PC Revolution</H4>\n",
      "<P>\n",
      "Driven largely by the development of the PC and LAN technology,\n",
      "<A HREF=\"./24.htm\">subnetting</A>\n",
      "was standardized in 1985 when\n",
      "<A HREF=\"./../RFC/950/index.htm\">RFC 950</A> was released.\n",
      "LAN technology made the idea of a \"catenet\" feasible - an internetwork\n",
      "of networks.  Subnetting opened the possibilities of interconnecting\n",
      "LANs with WANs.\n",
      "<P>\n",
      "The National Science Foundation (NSF) started the Supercomputer\n",
      "Centers program in 1986.  Until then, supercomputers such as Crays\n",
      "were largely the playthings of large, well-funded universities\n",
      "and military research centers.\n",
      "NSF's idea was to make supercomputer resources available\n",
      "to those of more modest means by constructing five\n",
      "supercomputer centers around the country and building a network\n",
      "linking them with potential users.  NSF decided to base\n",
      "their network on the Internet protocols, and NSFNET was\n",
      "born.  For the next decade, NSFNET would be the core\n",
      "of the U.S. Internet, until its privatization and\n",
      "ultimate retirement in 1995.\n",
      "<P>\n",
      "Domain naming was stable by 1987 when\n",
      "<A HREF=\"./../RFC/1034/index.htm\">RFC 1034</A> was released.\n",
      "Until then, hostnames were mapped to IP address using static tables,\n",
      "but the Internet's exponential growth had made this practice infeasible.\n",
      "<P>\n",
      "In the late 1980s, important advances related poor network performance\n",
      "with poor TCP performance, and a string of papers by the likes of\n",
      "Nagle and Van Jacobson\n",
      "(<A HREF=\"./../RFC/896/index.htm\">RFC 896</A>,\n",
      "<A HREF=\"./../RFC/1072/index.htm\">RFC 1072</A>,\n",
      "<A HREF=\"./../RFC/1144/index.htm\">RFC 1144</A>,\n",
      "<A HREF=\"./../RFC/1323/index.htm\">RFC 1323</A>)\n",
      "present key insights into TCP performance.\n",
      "<P>\n",
      "The 1987 Internet Worm was the largest security failure in\n",
      "the history of the Internet.\n",
      "More information can be found in\n",
      "<A HREF=\"../RFC/bynum.cgi?1135\">RFC 1135</A>.\n",
      "All things considered, it could happen again.\n",
      "<P>\n",
      "<H4>Early 1990s - Address Exhaustion and the Web</H4>\n",
      "<P>\n",
      "In the early 90s, the first <em>address exhaustion crisis</em>\n",
      "hit the Internet technical community.  The present solution,\n",
      "<A HREF=\"./25.htm\">CIDR</A>,\n",
      "will sustain the Internet for a few more years by making\n",
      "more efficient use of IP's existing 32-bit address space.\n",
      "For a more lasting\n",
      "solution, IETF is looking at IPv6 and its 128-bit address space,\n",
      "but CIDR is here to stay.\n",
      "<P>\n",
      "Crisis aside, the World Wide Web (WWW) has been one of Internet's\n",
      "most exciting recent developments. The idea of\n",
      "<A HREF=\"./12.htm\">hypertext</A>\n",
      "has been around for more than a decade, but in 1989 a team at\n",
      "the European Center for Particle Research (CERN) in Switzerland\n",
      "developed a set of protocols for transferring hypertext\n",
      "via the Internet.  In the early 1990s it was enhanced by a team\n",
      "at the National Center for Supercomputing Applications (NCSA)\n",
      "at the University of Illinois - one of NSF's supercomputer centers.\n",
      "The result was NCSA Mosaic, a graphical, point-and-click hypertext\n",
      "browser that made Internet easy.  The resulting explosion\n",
      "in \"Web sites\" drove the Internet into the public eye.\n",
      "<P>\n",
      "\n",
      "<H4>Mid 1990s - The New Internet</H4>\n",
      "<P>\n",
      "Of at least as much interest as Internet's technical progress in the\n",
      "1990s has been its sociological progress.\n",
      "It has already become part\n",
      "of the national vocabulary, and seems headed for even greater prominence.\n",
      "It has been accepted by the business community, with a resulting\n",
      "explosion of service providers, consultants, books, and TV coverage.\n",
      "It has given birth to the Free Software Movement.\n",
      "<P>\n",
      "The Free Software Movement owes much to bulletin board systems,\n",
      "but really came into its own on the Internet, due to a combination\n",
      "of forces.  The public nature of the Internet's early funding ensured\n",
      "that much of its networking software was non-proprietary.  The\n",
      "emergence of anonymous FTP sites provided a distribution mechanism\n",
      "that almost anyone could use.  Network newsgroups and mailing lists\n",
      "offered an open communication medium.  Last but not least were\n",
      "individualists like Richard Stallman, who wrote EMACS, launched the GNU\n",
      "Project and founded the Free Software Foundation.  In the 1990s, Linus\n",
      "Torvalds wrote Linux, the popular (and free) UNIX clone operating system.\n",
      "<P>\n",
      "<UL>\n",
      "<TT>\\begin{soapbox}</TT>\n",
      "<P>\n",
      "The explosion of capitalist conservatism, combined with a growing\n",
      "awareness of Internet's business value, has led to major\n",
      "changes in the Internet community.\n",
      "Many of them have not been for the good.\n",
      "<P>\n",
      "First, there seems to be a growing departure from Internet's history\n",
      "of open protocols, published as RFCs.  Many new protocols are\n",
      "being developed in an increasingly proprietary manner.\n",
      "IGRP, a trademark of Cisco Systems, has the dubious distinction\n",
      "as the most successful proprietary Internet routing protocol,\n",
      "capable only of operation between Cisco routers.\n",
      "Other protocols, such as BGP, are published as RFCs, but\n",
      "with important operational details omitted.\n",
      "The notoriously mis-named Open Software Foundation has\n",
      "introduced a whole suite of \"open\" protocols whose\n",
      "specifications are available - for a price - and not on the net.\n",
      "I am forced to wonder: 1) why do we need a new RPC? and\n",
      "2) why won't OSF tell us how it works?\n",
      "<P>\n",
      "People forget that businesses have tried to\n",
      "run digital communications networks in the past.\n",
      "IBM and DEC both developed proprietary networking schemes\n",
      "that only ran on their hardware.  Several information\n",
      "providers did very well for themselves in the 80s, including\n",
      "LEXIS/NEXIS, Dialog, and Dow Jones.  Public data networks were\n",
      "constructed by companies like Tymnet and run into every major US city.\n",
      "CompuServe and others built large bulletin board-like systems.\n",
      "Many of these services still offer a quality and depth of coverage\n",
      "unparalleled on the Internet (examine Dialog if you are skeptical\n",
      "of this claim).  But none of them offered nudie\n",
      "GIFs that anyone could download.  None of them let you read\n",
      "through the RFCs and then write a Perl script to tweak the one\n",
      "little thing you needed to adjust.  None of them\n",
      "gave birth to a Free Software Movement.\n",
      "None of them caught people's imagination.\n",
      "<P>\n",
      "The very existence of the Free Software Movement is part of the\n",
      "Internet saga, because free software would not exist without the net.\n",
      "\"Movements\" tend to arise when progress offers us new freedoms\n",
      "and we find new ways to explore and, sometimes, to exploit them.\n",
      "The Free Software Movement has offered what would be\n",
      "unimaginable when the Internet was formed - games, editors,\n",
      "windowing systems,\n",
      "compilers, networking software, and even entire operating systems\n",
      "available for anyone who wants them, without licensing fees,\n",
      "with complete source code, and all you need is Internet access.\n",
      "It also offers challenges, forcing us to ask what changes are\n",
      "needed in our society to support these new freedoms that have\n",
      "touched so many people.  And it offers chances at exploitation,\n",
      "from the businesses using free software development platforms\n",
      "for commercial code, to the Internet Worm and the security\n",
      "risks of open systems.\n",
      "<P>\n",
      "People wonder whether progress is better served through\n",
      "government funding or private industry.  \n",
      "The Internet defies the popular wisdom of \"business is better\".\n",
      "Both business and government tried to\n",
      "build large data communication networks in the 1980s.  Business depended\n",
      "on good market decisions; the government researchers\n",
      "based their system on openness, imagination and freedom.\n",
      "Business failed; Internet succeeded.\n",
      "Our reward has been its commercialization.\n",
      "<P>\n",
      "<TT>\\end{soapbox}</TT>\n",
      "</UL>\n",
      "<P>\n",
      "For the next few years, the Internet will almost certainly be\n",
      "content-driven.  Although new protocols are always under development,\n",
      "we have barely begun to explore the potential\n",
      "of just the existing ones.\n",
      "Chief among these is the World Wide Web, with its potential for\n",
      "simple on-line access to almost any information imaginable.\n",
      "Yet even as the Internet intrudes into society, remember\n",
      "that over the last two decades \"The Net\" has developed\n",
      "a culture of its own, one that may collide with society's.\n",
      "Already business is making its pitch to dominate the Internet.\n",
      "Already Congress has deemed it necessary to regulate the Web.\n",
      "The big questions loom unanswered:\n",
      "How will society change the Internet...\n",
      "and how will the Internet change society?\n",
      "\n",
      "<UL>\n",
      "</UL>\n",
      "<P>\n",
      "<P><HR>\n",
      "<CENTER><B>Next:</B> <A HREF=\"67.htm\">Internet Organization</A></CENTER><HR>\n",
      "<B>Connected: An Internet Encyclopedia</B>\n",
      "<BR>\n",
      "<EM>Internet History</EM>\n",
      "</BODY>\n",
      "</HTML>\n",
      "\n"
     ]
    }
   ],
   "source": [
    "print(fullHtmlText)"
   ]
  },
  {
   "cell_type": "markdown",
   "id": "8812ea38",
   "metadata": {},
   "source": [
    "### An example based on the GitHub REST API\n",
    "\n",
    "\n",
    "https://docs.github.com/en/rest/reference/users"
   ]
  },
  {
   "cell_type": "code",
   "execution_count": 12,
   "id": "df4ac9a9",
   "metadata": {
    "scrolled": true
   },
   "outputs": [],
   "source": [
    "# default / example user, with authentication\n",
    "\n",
    "r = requests.get('https://api.github.com/users/user', auth = ('user', 'pass'))"
   ]
  },
  {
   "cell_type": "markdown",
   "id": "15728cfa",
   "metadata": {},
   "source": [
    "https://github.com/user\n",
    "\n",
    "Ops, she is a real human being ...\n",
    "Well, choosing \"user\" as alias maybe is not the best choice ever ;-D"
   ]
  },
  {
   "cell_type": "code",
   "execution_count": 13,
   "id": "2a70e12e",
   "metadata": {
    "scrolled": true
   },
   "outputs": [
    {
     "data": {
      "text/plain": [
       "'{\"login\":\"user\",\"id\":14959,\"node_id\":\"MDQ6VXNlcjE0OTU5\",\"avatar_url\":\"https://avatars.githubusercontent.com/u/14959?v=4\",\"gravatar_id\":\"\",\"url\":\"https://api.github.com/users/user\",\"html_url\":\"https://github.com/user\",\"followers_url\":\"https://api.github.com/users/user/followers\",\"following_url\":\"https://api.github.com/users/user/following{/other_user}\",\"gists_url\":\"https://api.github.com/users/user/gists{/gist_id}\",\"starred_url\":\"https://api.github.com/users/user/starred{/owner}{/repo}\",\"subscriptions_url\":\"https://api.github.com/users/user/subscriptions\",\"organizations_url\":\"https://api.github.com/users/user/orgs\",\"repos_url\":\"https://api.github.com/users/user/repos\",\"events_url\":\"https://api.github.com/users/user/events{/privacy}\",\"received_events_url\":\"https://api.github.com/users/user/received_events\",\"type\":\"User\",\"site_admin\":false,\"name\":\"Ilya Solovyov\",\"company\":null,\"blog\":\"\",\"location\":\"Saint Petersburg, Russia\",\"email\":null,\"hireable\":null,\"bio\":\"~/.local/bin\",\"twitter_username\":null,\"public_repos\":10,\"public_gists\":5,\"followers\":47,\"following\":6,\"created_at\":\"2008-06-25T06:56:09Z\",\"updated_at\":\"2021-05-17T00:02:20Z\"}'"
      ]
     },
     "execution_count": 13,
     "metadata": {},
     "output_type": "execute_result"
    }
   ],
   "source": [
    "r.text"
   ]
  },
  {
   "cell_type": "code",
   "execution_count": 14,
   "id": "f47cbc39",
   "metadata": {
    "scrolled": true
   },
   "outputs": [
    {
     "data": {
      "text/plain": [
       "200"
      ]
     },
     "execution_count": 14,
     "metadata": {},
     "output_type": "execute_result"
    }
   ],
   "source": [
    "r.status_code"
   ]
  },
  {
   "cell_type": "markdown",
   "id": "9b480364",
   "metadata": {},
   "source": [
    "https://en.wikipedia.org/wiki/List_of_HTTP_status_codes"
   ]
  },
  {
   "cell_type": "code",
   "execution_count": 15,
   "id": "a7a01b8c",
   "metadata": {
    "scrolled": true
   },
   "outputs": [
    {
     "name": "stdout",
     "output_type": "stream",
     "text": [
      "Success!\n"
     ]
    }
   ],
   "source": [
    "if r.status_code == 200:\n",
    "    print('Success!')\n",
    "elif r.status_code == 401:\n",
    "    print('Unauthorized')\n",
    "elif r.status_code == 404:\n",
    "    print('Not Found')"
   ]
  },
  {
   "cell_type": "code",
   "execution_count": 16,
   "id": "049bddf0",
   "metadata": {
    "scrolled": true
   },
   "outputs": [
    {
     "name": "stdout",
     "output_type": "stream",
     "text": [
      "Success!\n"
     ]
    }
   ],
   "source": [
    "if r:\n",
    "    print('Success!')\n",
    "else:\n",
    "    print('An error has occurred')"
   ]
  },
  {
   "cell_type": "code",
   "execution_count": 17,
   "id": "99e1ce4c",
   "metadata": {
    "scrolled": true
   },
   "outputs": [
    {
     "data": {
      "text/plain": [
       "{'login': 'user',\n",
       " 'id': 14959,\n",
       " 'node_id': 'MDQ6VXNlcjE0OTU5',\n",
       " 'avatar_url': 'https://avatars.githubusercontent.com/u/14959?v=4',\n",
       " 'gravatar_id': '',\n",
       " 'url': 'https://api.github.com/users/user',\n",
       " 'html_url': 'https://github.com/user',\n",
       " 'followers_url': 'https://api.github.com/users/user/followers',\n",
       " 'following_url': 'https://api.github.com/users/user/following{/other_user}',\n",
       " 'gists_url': 'https://api.github.com/users/user/gists{/gist_id}',\n",
       " 'starred_url': 'https://api.github.com/users/user/starred{/owner}{/repo}',\n",
       " 'subscriptions_url': 'https://api.github.com/users/user/subscriptions',\n",
       " 'organizations_url': 'https://api.github.com/users/user/orgs',\n",
       " 'repos_url': 'https://api.github.com/users/user/repos',\n",
       " 'events_url': 'https://api.github.com/users/user/events{/privacy}',\n",
       " 'received_events_url': 'https://api.github.com/users/user/received_events',\n",
       " 'type': 'User',\n",
       " 'site_admin': False,\n",
       " 'name': 'Ilya Solovyov',\n",
       " 'company': None,\n",
       " 'blog': '',\n",
       " 'location': 'Saint Petersburg, Russia',\n",
       " 'email': None,\n",
       " 'hireable': None,\n",
       " 'bio': '~/.local/bin',\n",
       " 'twitter_username': None,\n",
       " 'public_repos': 10,\n",
       " 'public_gists': 5,\n",
       " 'followers': 47,\n",
       " 'following': 6,\n",
       " 'created_at': '2008-06-25T06:56:09Z',\n",
       " 'updated_at': '2021-05-17T00:02:20Z'}"
      ]
     },
     "execution_count": 17,
     "metadata": {},
     "output_type": "execute_result"
    }
   ],
   "source": [
    "r.json()\n",
    "\n",
    "# the type of the return value of .json() is a dictionary, so you can access values in the object by key"
   ]
  },
  {
   "cell_type": "code",
   "execution_count": 18,
   "id": "ad8ec3db",
   "metadata": {
    "scrolled": true
   },
   "outputs": [
    {
     "data": {
      "text/plain": [
       "'Saint Petersburg, Russia'"
      ]
     },
     "execution_count": 18,
     "metadata": {},
     "output_type": "execute_result"
    }
   ],
   "source": [
    "json_response = r.json()\n",
    "json_response['location']"
   ]
  },
  {
   "cell_type": "code",
   "execution_count": 19,
   "id": "a18eade8",
   "metadata": {
    "scrolled": true
   },
   "outputs": [
    {
     "data": {
      "text/plain": [
       "'utf-8'"
      ]
     },
     "execution_count": 19,
     "metadata": {},
     "output_type": "execute_result"
    }
   ],
   "source": [
    "r.encoding"
   ]
  },
  {
   "cell_type": "code",
   "execution_count": 20,
   "id": "4b4d89a5",
   "metadata": {
    "scrolled": true
   },
   "outputs": [
    {
     "data": {
      "text/plain": [
       "{'Server': 'GitHub.com', 'Date': 'Tue, 22 Jun 2021 17:18:23 GMT', 'Content-Type': 'application/json; charset=utf-8', 'Transfer-Encoding': 'chunked', 'Cache-Control': 'public, max-age=60, s-maxage=60', 'Vary': 'Accept, Accept-Encoding, Accept, X-Requested-With', 'ETag': 'W/\"4568b595e5cb966bab3f4e17d514e7307d89e7dd81aae4ed616cc8704c7d143e\"', 'Last-Modified': 'Mon, 17 May 2021 00:02:20 GMT', 'X-GitHub-Media-Type': 'github.v3; format=json', 'X-RateLimit-Limit': '60', 'X-RateLimit-Remaining': '59', 'X-RateLimit-Reset': '1624385903', 'X-RateLimit-Used': '1', 'X-RateLimit-Resource': 'core', 'Access-Control-Expose-Headers': 'ETag, Link, Location, Retry-After, X-GitHub-OTP, X-RateLimit-Limit, X-RateLimit-Remaining, X-RateLimit-Used, X-RateLimit-Resource, X-RateLimit-Reset, X-OAuth-Scopes, X-Accepted-OAuth-Scopes, X-Poll-Interval, X-GitHub-Media-Type, Deprecation, Sunset', 'Access-Control-Allow-Origin': '*', 'Strict-Transport-Security': 'max-age=31536000; includeSubdomains; preload', 'X-Frame-Options': 'deny', 'X-Content-Type-Options': 'nosniff', 'X-XSS-Protection': '0', 'Referrer-Policy': 'origin-when-cross-origin, strict-origin-when-cross-origin', 'Content-Security-Policy': \"default-src 'none'\", 'Content-Encoding': 'gzip', 'X-GitHub-Request-Id': '5F5D:4B1B:1ABF887:1B4FB27:60D21B5F'}"
      ]
     },
     "execution_count": 20,
     "metadata": {},
     "output_type": "execute_result"
    }
   ],
   "source": [
    "r.headers"
   ]
  },
  {
   "cell_type": "code",
   "execution_count": 21,
   "id": "df01df34",
   "metadata": {
    "scrolled": true
   },
   "outputs": [
    {
     "data": {
      "text/plain": [
       "'Mon, 17 May 2021 00:02:20 GMT'"
      ]
     },
     "execution_count": 21,
     "metadata": {},
     "output_type": "execute_result"
    }
   ],
   "source": [
    "r.headers['Last-Modified']"
   ]
  },
  {
   "cell_type": "code",
   "execution_count": null,
   "id": "f8122abc",
   "metadata": {
    "scrolled": true
   },
   "outputs": [],
   "source": [
    "# the end"
   ]
  }
 ],
 "metadata": {
  "kernelspec": {
   "display_name": "Python 3",
   "language": "python",
   "name": "python3"
  },
  "language_info": {
   "codemirror_mode": {
    "name": "ipython",
    "version": 3
   },
   "file_extension": ".py",
   "mimetype": "text/x-python",
   "name": "python",
   "nbconvert_exporter": "python",
   "pygments_lexer": "ipython3",
   "version": "3.8.3"
  }
 },
 "nbformat": 4,
 "nbformat_minor": 5
}
