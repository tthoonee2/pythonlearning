{
 "cells": [
  {
   "cell_type": "markdown",
   "id": "cbe443eb",
   "metadata": {},
   "source": [
    "# Lesson 4\n",
    "## Sentiment using nltk¶"
   ]
  },
  {
   "cell_type": "code",
   "execution_count": 2,
   "id": "5403a5b2",
   "metadata": {},
   "outputs": [],
   "source": [
    "import nltk\n"
   ]
  },
  {
   "cell_type": "markdown",
   "id": "0cff92be",
   "metadata": {},
   "source": [
    "**Element to download:**\n",
    "\n",
    "names: A list of common English names compiled by Mark Kantrowitz\n",
    "\n",
    "stopwords: A list of really common words, like articles, pronouns, prepositions, and conjunctions\n",
    "\n",
    "state_union: A sample of transcribed State of the Union addresses by different US presidents, compiled by Kathleen Ahrens\n",
    "\n",
    "twitter_samples: A list of social media phrases posted to Twitter\n",
    "\n",
    "movie_reviews: Two thousand movie reviews categorized by Bo Pang and Lillian Lee\n",
    "\n",
    "averaged_perceptron_tagger: A data model that NLTK uses to categorize words into their part of speech\n",
    "\n",
    "vader_lexicon: A scored list of words and jargon that NLTK references when performing sentiment analysis, created by C.J. Hutto and Eric Gilbert\n",
    "\n",
    "punkt: A data model created by Jan Strunk that NLTK uses to split full texts into word lists\n"
   ]
  },
  {
   "cell_type": "code",
   "execution_count": 3,
   "id": "84822214",
   "metadata": {},
   "outputs": [
    {
     "name": "stderr",
     "output_type": "stream",
     "text": [
      "[nltk_data] Downloading package names to\n",
      "[nltk_data]     C:\\Users\\Utente\\AppData\\Roaming\\nltk_data...\n",
      "[nltk_data]   Package names is already up-to-date!\n",
      "[nltk_data] Downloading package stopwords to\n",
      "[nltk_data]     C:\\Users\\Utente\\AppData\\Roaming\\nltk_data...\n",
      "[nltk_data]   Package stopwords is already up-to-date!\n",
      "[nltk_data] Downloading package state_union to\n",
      "[nltk_data]     C:\\Users\\Utente\\AppData\\Roaming\\nltk_data...\n",
      "[nltk_data]   Package state_union is already up-to-date!\n",
      "[nltk_data] Downloading package twitter_samples to\n",
      "[nltk_data]     C:\\Users\\Utente\\AppData\\Roaming\\nltk_data...\n",
      "[nltk_data]   Package twitter_samples is already up-to-date!\n",
      "[nltk_data] Downloading package movie_reviews to\n",
      "[nltk_data]     C:\\Users\\Utente\\AppData\\Roaming\\nltk_data...\n",
      "[nltk_data]   Package movie_reviews is already up-to-date!\n",
      "[nltk_data] Downloading package averaged_perceptron_tagger to\n",
      "[nltk_data]     C:\\Users\\Utente\\AppData\\Roaming\\nltk_data...\n",
      "[nltk_data]   Package averaged_perceptron_tagger is already up-to-\n",
      "[nltk_data]       date!\n",
      "[nltk_data] Downloading package vader_lexicon to\n",
      "[nltk_data]     C:\\Users\\Utente\\AppData\\Roaming\\nltk_data...\n",
      "[nltk_data] Downloading package punkt to\n",
      "[nltk_data]     C:\\Users\\Utente\\AppData\\Roaming\\nltk_data...\n",
      "[nltk_data]   Package punkt is already up-to-date!\n"
     ]
    },
    {
     "data": {
      "text/plain": [
       "True"
      ]
     },
     "execution_count": 3,
     "metadata": {},
     "output_type": "execute_result"
    }
   ],
   "source": [
    "nltk.download([\n",
    "     \"names\",\n",
    "     \"stopwords\",\n",
    "     \"state_union\",\n",
    "     \"twitter_samples\",\n",
    "     \"movie_reviews\",\n",
    "     \"averaged_perceptron_tagger\",\n",
    "     \"vader_lexicon\",\n",
    "     \"punkt\",\n",
    "])"
   ]
  },
  {
   "cell_type": "code",
   "execution_count": null,
   "id": "c2ffc024",
   "metadata": {},
   "outputs": [],
   "source": [
    "# load the State of the Union corpus\n",
    "\n",
    "words = [w for w in nltk.corpus.state_union.words() if w.isalpha()]  # deletes punctuation\n",
    "\n",
    "'''\n",
    "alternative --> use   nltk.word_tokenize(   )\n",
    "'''"
   ]
  },
  {
   "cell_type": "code",
   "execution_count": null,
   "id": "56a0ad82",
   "metadata": {},
   "outputs": [],
   "source": [
    "words[:50]"
   ]
  },
  {
   "cell_type": "code",
   "execution_count": null,
   "id": "767197db",
   "metadata": {},
   "outputs": [],
   "source": [
    "# remove stopwords\n",
    "\n",
    "stopwords = nltk.corpus.stopwords.words(\"english\")\n",
    "\n",
    "words = [w for w in words if w.lower() not in stopwords]"
   ]
  },
  {
   "cell_type": "code",
   "execution_count": null,
   "id": "212ce488",
   "metadata": {},
   "outputs": [],
   "source": [
    "words[:50]"
   ]
  },
  {
   "cell_type": "code",
   "execution_count": null,
   "id": "86c7fd74",
   "metadata": {},
   "outputs": [],
   "source": [
    "# word frequency distribution\n",
    "\n",
    "fd = nltk.FreqDist(words)"
   ]
  },
  {
   "cell_type": "code",
   "execution_count": null,
   "id": "f95fdb3b",
   "metadata": {},
   "outputs": [],
   "source": [
    "# most common words\n",
    "\n",
    "fd.most_common(10)"
   ]
  },
  {
   "cell_type": "code",
   "execution_count": null,
   "id": "58cc611b",
   "metadata": {},
   "outputs": [],
   "source": [
    "fd.tabulate(10)"
   ]
  },
  {
   "cell_type": "code",
   "execution_count": null,
   "id": "5854f215",
   "metadata": {},
   "outputs": [],
   "source": [
    "fd[\"America\"]"
   ]
  },
  {
   "cell_type": "code",
   "execution_count": null,
   "id": "4ac79abc",
   "metadata": {},
   "outputs": [],
   "source": [
    "fd[\"america\"]"
   ]
  },
  {
   "cell_type": "code",
   "execution_count": null,
   "id": "e0d76486",
   "metadata": {},
   "outputs": [],
   "source": [
    "fd[\"AMERICA\"]"
   ]
  },
  {
   "cell_type": "code",
   "execution_count": null,
   "id": "b4441d20",
   "metadata": {},
   "outputs": [],
   "source": [
    "# lowercase word frequencies\n",
    "\n",
    "lower_words = [w.lower() for w in words]\n",
    "lower_fd = nltk.FreqDist(lower_words)"
   ]
  },
  {
   "cell_type": "code",
   "execution_count": null,
   "id": "1be6c99b",
   "metadata": {},
   "outputs": [],
   "source": [
    "lower_fd[\"america\"]"
   ]
  },
  {
   "cell_type": "markdown",
   "id": "c8a1a1a7",
   "metadata": {},
   "source": [
    "In the context of NLP, a **concordance** is a collection of word locations along with their context. You can use concordances to find:\n",
    "\n",
    "- How many times a word appears\n",
    "- Where each occurrence appears\n",
    "- What words surround each occurrence"
   ]
  },
  {
   "cell_type": "code",
   "execution_count": null,
   "id": "2baac1ae",
   "metadata": {},
   "outputs": [],
   "source": [
    "text1 = nltk.Text(nltk.corpus.state_union.words())"
   ]
  },
  {
   "cell_type": "code",
   "execution_count": null,
   "id": "a0036bdf",
   "metadata": {},
   "outputs": [],
   "source": [
    "text1.concordance(\"america\", lines=5)   # .concordance() already ignores case"
   ]
  },
  {
   "cell_type": "code",
   "execution_count": null,
   "id": "2024a486",
   "metadata": {},
   "outputs": [],
   "source": [
    "concordance_list = text1.concordance_list(\"america\", lines=3)\n",
    "\n",
    "for entry in concordance_list:\n",
    "    print(entry.line)"
   ]
  },
  {
   "cell_type": "markdown",
   "id": "10ccfe23",
   "metadata": {},
   "source": [
    "**Collocations** can be made up of two or more words. NLTK provides classes to handle several types of collocations:\n",
    "\n",
    "- Bigrams: Frequent two-word combinations\n",
    "- Trigrams: Frequent three-word combinations\n",
    "- Quadgrams: Frequent four-word combinations"
   ]
  },
  {
   "cell_type": "code",
   "execution_count": null,
   "id": "f92f10bf",
   "metadata": {},
   "outputs": [],
   "source": [
    "words = [w for w in nltk.corpus.state_union.words() if w.isalpha()]\n",
    "finder = nltk.collocations.TrigramCollocationFinder.from_words(words)"
   ]
  },
  {
   "cell_type": "code",
   "execution_count": null,
   "id": "5fc91a3a",
   "metadata": {},
   "outputs": [],
   "source": [
    "finder.ngram_fd.most_common(5)"
   ]
  },
  {
   "cell_type": "markdown",
   "id": "83bf2cab",
   "metadata": {},
   "source": [
    "### VADER"
   ]
  },
  {
   "cell_type": "markdown",
   "id": "43f73b49",
   "metadata": {},
   "source": [
    "NLTK already has a built-in, pretrained sentiment analyzer called VADER (Valence Aware Dictionary and sEntiment Reasoner)\n",
    "\n",
    "VADER needs raw strings for its rating!"
   ]
  },
  {
   "cell_type": "code",
   "execution_count": null,
   "id": "cf244f70",
   "metadata": {},
   "outputs": [],
   "source": [
    "from nltk.sentiment import SentimentIntensityAnalyzer\n",
    "sia = SentimentIntensityAnalyzer()"
   ]
  },
  {
   "cell_type": "code",
   "execution_count": null,
   "id": "36407ff8",
   "metadata": {},
   "outputs": [],
   "source": [
    "sia.polarity_scores(\"Wow, NLTK is really powerful!\")"
   ]
  },
  {
   "cell_type": "code",
   "execution_count": null,
   "id": "61a57640",
   "metadata": {},
   "outputs": [],
   "source": [
    "# new dataset\n",
    "\n",
    "tweets = [t.replace(\"://\", \"//\") for t in nltk.corpus.twitter_samples.strings()]  # list of raw tweets as strings"
   ]
  },
  {
   "cell_type": "code",
   "execution_count": null,
   "id": "d238455b",
   "metadata": {},
   "outputs": [],
   "source": [
    "tweets[:10]"
   ]
  },
  {
   "cell_type": "code",
   "execution_count": null,
   "id": "643c6dd0",
   "metadata": {},
   "outputs": [],
   "source": [
    "from random import shuffle\n",
    "\n",
    "def is_positive(tweet: str) -> bool:\n",
    "    \"\"\"True if tweet has positive compound sentiment, False otherwise.\"\"\"\n",
    "    return sia.polarity_scores(tweet)[\"compound\"] > 0\n",
    "\n",
    "shuffle(tweets)\n",
    "for tweet in tweets[:10]:\n",
    "    print(\">\", is_positive(tweet), tweet)"
   ]
  },
  {
   "cell_type": "code",
   "execution_count": null,
   "id": "db8a3ab1",
   "metadata": {},
   "outputs": [],
   "source": [
    "# the end"
   ]
  }
 ],
 "metadata": {
  "kernelspec": {
   "display_name": "Python 3",
   "language": "python",
   "name": "python3"
  },
  "language_info": {
   "codemirror_mode": {
    "name": "ipython",
    "version": 3
   },
   "file_extension": ".py",
   "mimetype": "text/x-python",
   "name": "python",
   "nbconvert_exporter": "python",
   "pygments_lexer": "ipython3",
   "version": "3.8.3"
  }
 },
 "nbformat": 4,
 "nbformat_minor": 5
}
