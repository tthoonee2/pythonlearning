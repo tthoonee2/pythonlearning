{
 "cells": [
  {
   "cell_type": "markdown",
   "id": "2c40b887",
   "metadata": {},
   "source": [
    "My first code line"
   ]
  },
  {
   "cell_type": "code",
   "execution_count": 1,
   "id": "b9167216",
   "metadata": {},
   "outputs": [
    {
     "name": "stdout",
     "output_type": "stream",
     "text": [
      "hello class\n"
     ]
    }
   ],
   "source": [
    "print(\"hello class\")"
   ]
  },
  {
   "cell_type": "code",
   "execution_count": null,
   "id": "79018bb5",
   "metadata": {},
   "outputs": [],
   "source": []
  }
 ],
 "metadata": {
  "kernelspec": {
   "display_name": "Python 3",
   "language": "python",
   "name": "python3"
  },
  "language_info": {
   "codemirror_mode": {
    "name": "ipython",
    "version": 3
   },
   "file_extension": ".py",
   "mimetype": "text/x-python",
   "name": "python",
   "nbconvert_exporter": "python",
   "pygments_lexer": "ipython3",
   "version": "3.8.8"
  }
 },
 "nbformat": 4,
 "nbformat_minor": 5
}
