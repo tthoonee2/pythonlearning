{
 "cells": [
  {
   "cell_type": "markdown",
   "id": "9f06cff0",
   "metadata": {},
   "source": [
    "# Lesson 1 - Introductin to Pandas"
   ]
  },
  {
   "cell_type": "code",
   "execution_count": null,
   "id": "810c0349",
   "metadata": {},
   "outputs": [],
   "source": [
    "import pandas as pd"
   ]
  },
  {
   "cell_type": "code",
   "execution_count": null,
   "id": "2ef2be5e",
   "metadata": {},
   "outputs": [],
   "source": [
    "# Series — One dimensional labeled array\n",
    "\n",
    "s = pd.Series([3, -5, 7, 4], index = ['a','b','c','d'])"
   ]
  },
  {
   "cell_type": "code",
   "execution_count": null,
   "id": "6f581a5a",
   "metadata": {},
   "outputs": [],
   "source": [
    "# Data Frame — A two dimensional labeled data structure\n",
    "\n",
    "data = {'Country':['Belgium','India','Brazil'], \n",
    "        'Capital':['Brussels','New Delhi','Brasilia'], \n",
    "        'Population':['111907','1303021','208476']}\n",
    "\n",
    "df = pd.DataFrame(data, columns = ['Country','Capital','Population'])\n",
    "df = pd.DataFrame(data, columns = ['Country','Capital','Population'])"
   ]
  },
  {
   "cell_type": "code",
   "execution_count": null,
   "id": "fe1350a7",
   "metadata": {},
   "outputs": [],
   "source": [
    "s.drop(['a','c'])"
   ]
  },
  {
   "cell_type": "code",
   "execution_count": null,
   "id": "07c8abcc",
   "metadata": {},
   "outputs": [],
   "source": [
    "df.drop('Country', axis = 1)"
   ]
  },
  {
   "cell_type": "code",
   "execution_count": null,
   "id": "ced07d54",
   "metadata": {},
   "outputs": [],
   "source": [
    "df.sort_index()"
   ]
  },
  {
   "cell_type": "code",
   "execution_count": null,
   "id": "d7379e95",
   "metadata": {},
   "outputs": [],
   "source": [
    "df.sort_values(by = 'Country')"
   ]
  },
  {
   "cell_type": "code",
   "execution_count": null,
   "id": "914eadfa",
   "metadata": {},
   "outputs": [],
   "source": [
    "df.shape"
   ]
  },
  {
   "cell_type": "code",
   "execution_count": null,
   "id": "542fbb54",
   "metadata": {},
   "outputs": [],
   "source": [
    "df.index"
   ]
  },
  {
   "cell_type": "code",
   "execution_count": null,
   "id": "bc386e00",
   "metadata": {},
   "outputs": [],
   "source": [
    "df.columns"
   ]
  },
  {
   "cell_type": "code",
   "execution_count": null,
   "id": "0f770e94",
   "metadata": {},
   "outputs": [],
   "source": [
    "df.info()"
   ]
  },
  {
   "cell_type": "code",
   "execution_count": null,
   "id": "73dce88f",
   "metadata": {},
   "outputs": [],
   "source": [
    "df.head(2)"
   ]
  },
  {
   "cell_type": "code",
   "execution_count": null,
   "id": "680540f8",
   "metadata": {},
   "outputs": [],
   "source": [
    "df.count()"
   ]
  },
  {
   "cell_type": "code",
   "execution_count": null,
   "id": "81acf243",
   "metadata": {},
   "outputs": [],
   "source": [
    "df.sum()"
   ]
  },
  {
   "cell_type": "code",
   "execution_count": null,
   "id": "bb1a55dd",
   "metadata": {},
   "outputs": [],
   "source": [
    "df.cumsum()"
   ]
  },
  {
   "cell_type": "code",
   "execution_count": null,
   "id": "d2de2987",
   "metadata": {},
   "outputs": [],
   "source": [
    "df.min()"
   ]
  },
  {
   "cell_type": "code",
   "execution_count": null,
   "id": "24faa551",
   "metadata": {},
   "outputs": [],
   "source": [
    "df.max()"
   ]
  },
  {
   "cell_type": "code",
   "execution_count": null,
   "id": "8dd8a3ec",
   "metadata": {},
   "outputs": [],
   "source": [
    "df.mean()"
   ]
  },
  {
   "cell_type": "code",
   "execution_count": null,
   "id": "fe6efd0f",
   "metadata": {},
   "outputs": [],
   "source": [
    "df.median()"
   ]
  },
  {
   "cell_type": "code",
   "execution_count": null,
   "id": "d7535fb2",
   "metadata": {},
   "outputs": [],
   "source": [
    "df.describe()"
   ]
  },
  {
   "cell_type": "code",
   "execution_count": null,
   "id": "66794d66",
   "metadata": {},
   "outputs": [],
   "source": [
    "s['b']"
   ]
  },
  {
   "cell_type": "code",
   "execution_count": null,
   "id": "3de505f0",
   "metadata": {},
   "outputs": [],
   "source": [
    "df[1:]"
   ]
  },
  {
   "cell_type": "code",
   "execution_count": null,
   "id": "a7157354",
   "metadata": {},
   "outputs": [],
   "source": [
    "df.iloc[0,0]"
   ]
  },
  {
   "cell_type": "code",
   "execution_count": null,
   "id": "1260b0c6",
   "metadata": {},
   "outputs": [],
   "source": [
    "df.loc[0,'Country']"
   ]
  },
  {
   "cell_type": "code",
   "execution_count": null,
   "id": "9fc7d2cf",
   "metadata": {},
   "outputs": [],
   "source": [
    "s['a'] = 6"
   ]
  },
  {
   "cell_type": "code",
   "execution_count": null,
   "id": "8cb15b08",
   "metadata": {},
   "outputs": [],
   "source": [
    "# lambda function\n",
    "\n",
    "df.apply(lambda x: x*2)"
   ]
  },
  {
   "cell_type": "code",
   "execution_count": null,
   "id": "01308cc4",
   "metadata": {},
   "outputs": [],
   "source": [
    "newdf = pd.read_csv('adult.csv')"
   ]
  },
  {
   "cell_type": "code",
   "execution_count": null,
   "id": "19ae41f8",
   "metadata": {},
   "outputs": [],
   "source": [
    "newdf.to_csv('myDataFrame.csv')"
   ]
  },
  {
   "cell_type": "code",
   "execution_count": null,
   "id": "7b552845",
   "metadata": {},
   "outputs": [],
   "source": [
    "pd.read_excel('adult.xlsx')"
   ]
  },
  {
   "cell_type": "code",
   "execution_count": null,
   "id": "13d85172",
   "metadata": {},
   "outputs": [],
   "source": [
    "pd.to_excel('myDataFrame.xlsx')"
   ]
  },
  {
   "cell_type": "code",
   "execution_count": null,
   "id": "c3192d77",
   "metadata": {},
   "outputs": [],
   "source": [
    "### the end"
   ]
  }
 ],
 "metadata": {
  "kernelspec": {
   "display_name": "Python 3",
   "language": "python",
   "name": "python3"
  },
  "language_info": {
   "codemirror_mode": {
    "name": "ipython",
    "version": 3
   },
   "file_extension": ".py",
   "mimetype": "text/x-python",
   "name": "python",
   "nbconvert_exporter": "python",
   "pygments_lexer": "ipython3",
   "version": "3.8.8"
  }
 },
 "nbformat": 4,
 "nbformat_minor": 5
}
