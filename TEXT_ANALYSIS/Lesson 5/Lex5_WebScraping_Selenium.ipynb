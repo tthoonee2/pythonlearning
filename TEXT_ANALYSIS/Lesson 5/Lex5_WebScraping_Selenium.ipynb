{
 "cells": [
  {
   "cell_type": "markdown",
   "id": "074f2209",
   "metadata": {},
   "source": [
    "# Lesson 5\n",
    "\n",
    "### Web Scraping with Selenium"
   ]
  },
  {
   "cell_type": "markdown",
   "id": "b7e077be",
   "metadata": {},
   "source": [
    "Documentation:\n",
    "\n",
    "https://selenium-python.readthedocs.io/"
   ]
  },
  {
   "cell_type": "code",
   "execution_count": 1,
   "id": "4bd726d7",
   "metadata": {},
   "outputs": [
    {
     "name": "stdout",
     "output_type": "stream",
     "text": [
      "Requirement already satisfied: selenium in c:\\users\\mchde\\anaconda3\\lib\\site-packages (3.141.0)\n",
      "Requirement already satisfied: urllib3 in c:\\users\\mchde\\anaconda3\\lib\\site-packages (from selenium) (1.26.4)\n"
     ]
    }
   ],
   "source": [
    "! pip install selenium"
   ]
  },
  {
   "cell_type": "markdown",
   "id": "1b047348",
   "metadata": {},
   "source": [
    "***Attention!!!***\n",
    "\n",
    "Selenium requires a driver to interface with our chosen browser. Chrome, for example, requires ChromeDriver, which needs to be installed before we start scraping. The Selenium web driver speaks directly to the browser using the browser’s own engine to control it."
   ]
  },
  {
   "cell_type": "markdown",
   "id": "0867476e",
   "metadata": {},
   "source": [
    "**Download Chrome WebDriver**\n",
    "\n",
    "\n",
    "Visit https://sites.google.com/chromium.org/driver/downloads?authuser=0\n",
    "\n",
    "\n",
    "Select the compatible driver for your Chrome version\n",
    "    To check the Chrome version you are using, click on the three vertical dots on the top right corner\n",
    "    Then go to Help -> About Google Chrome"
   ]
  },
  {
   "cell_type": "markdown",
   "id": "e23a4134",
   "metadata": {},
   "source": [
    "Some help!!!\n",
    "\n",
    "http://www.borgo7.net/4-mosse-per-installare-selenium-su-windows-e-usarlo-con-python/\n",
    "\n",
    "https://chromedriver.chromium.org/getting-started"
   ]
  },
  {
   "cell_type": "markdown",
   "id": "e206f9b4",
   "metadata": {},
   "source": [
    "Extract \"chromedriver.exe\" from the zip file and move it in an easy folder\n",
    "\n",
    "Mine is:       C:\\Users\\mchde\\Desktop\\TextPy_Lex5\n"
   ]
  },
  {
   "cell_type": "code",
   "execution_count": 3,
   "id": "9235829e",
   "metadata": {},
   "outputs": [],
   "source": [
    "from selenium import webdriver\n",
    "from selenium.webdriver.common.keys import Keys \n",
    "\n",
    "driver = webdriver.Firefox(executable_path = 'D:\\\\utente\\\\Download\\\\geckodriver-v0.29.1-win64\\\\geckodriver.exe')"
   ]
  },
  {
   "cell_type": "markdown",
   "id": "89f0d6c6",
   "metadata": {},
   "source": [
    "### Scraping from YouTube\n",
    "\n",
    "\n",
    "We want: the video ID, video title, and video description of a particular category from YouTube\n",
    "\n",
    "\n",
    "The categories we’ll be scraping are:\n",
    "\n",
    "- Travel\n",
    "- Science\n",
    "- Food\n",
    "- History\n",
    "- Manufacturing\n",
    "- Art & Dance  \n"
   ]
  },
  {
   "cell_type": "code",
   "execution_count": 4,
   "id": "14ca6f9f",
   "metadata": {},
   "outputs": [],
   "source": [
    "from selenium import webdriver \n",
    "import pandas as pd \n",
    "from selenium.webdriver.common.by import By \n",
    "from selenium.webdriver.support.ui import WebDriverWait \n",
    "from selenium.webdriver.support import expected_conditions as EC\n"
   ]
  },
  {
   "cell_type": "markdown",
   "id": "b3bba442",
   "metadata": {},
   "source": [
    "Open YouTube in your browser. Type in the category you want to search videos for and set the filter to “videos”. This will display only the videos related to your search. Copy the URL after doing this.   \n",
    "\n",
    "\n",
    "science\n",
    "\n",
    "https://www.youtube.com/results?search_query=science&sp=EgIQAQ%253D%253D"
   ]
  },
  {
   "cell_type": "code",
   "execution_count": 5,
   "id": "3ab14bcf",
   "metadata": {},
   "outputs": [],
   "source": [
    "url = \"https://www.youtube.com/results?search_query=science&sp=EgIQAQ%253D%253D\""
   ]
  },
  {
   "cell_type": "code",
   "execution_count": 9,
   "id": "7b552876",
   "metadata": {},
   "outputs": [],
   "source": [
    "# This will open a new browser window for that link\n",
    "\n",
    "driver = webdriver.Firefox(executable_path = 'D:\\\\utente\\\\Download\\\\geckodriver-v0.29.1-win64\\\\geckodriver.exe') \n",
    "driver.get(url)"
   ]
  },
  {
   "cell_type": "markdown",
   "id": "1c7684b5",
   "metadata": {},
   "source": [
    "Fetch all the video links present on that particular page. We will create a “list” to store those links\n",
    "\n",
    "Now, go to the browser window, right-click on the page, and select ‘inspect element’\n",
    "\n",
    "Search for the anchor tag with id = ”video-title” and then right-click on it -> Copy -> XPath. The XPath should look something like : //*[@id=”video-title”]"
   ]
  },
  {
   "cell_type": "code",
   "execution_count": 10,
   "id": "1bfa2af7",
   "metadata": {},
   "outputs": [
    {
     "ename": "SyntaxError",
     "evalue": "invalid syntax (<ipython-input-10-0e5bd77b2e85>, line 1)",
     "output_type": "error",
     "traceback": [
      "\u001b[1;36m  File \u001b[1;32m\"<ipython-input-10-0e5bd77b2e85>\"\u001b[1;36m, line \u001b[1;32m1\u001b[0m\n\u001b[1;33m    //*[@id=\"video-title\"]/yt-formatted-string\u001b[0m\n\u001b[1;37m    ^\u001b[0m\n\u001b[1;31mSyntaxError\u001b[0m\u001b[1;31m:\u001b[0m invalid syntax\n"
     ]
    }
   ],
   "source": [
    "//*[@id=\"video-title\"]/yt-formatted-string"
   ]
  },
  {
   "cell_type": "code",
   "execution_count": 12,
   "id": "f4661085",
   "metadata": {},
   "outputs": [
    {
     "name": "stdout",
     "output_type": "stream",
     "text": [
      "37\n"
     ]
    }
   ],
   "source": [
    "# this will fetch the “href” attribute of the anchor tag we searched for\n",
    "\n",
    "user_data = driver.find_elements_by_xpath('//*[@id=\"video-title\"]')\n",
    "links = []\n",
    "for i in user_data:\n",
    "    links.append(i.get_attribute('href'))\n",
    "\n",
    "print(len(links))"
   ]
  },
  {
   "cell_type": "code",
   "execution_count": null,
   "id": "083fefdd",
   "metadata": {},
   "outputs": [],
   "source": [
    "# create a dataframe with 4 columns – “link”, “title”, “description”, and “category”\n",
    "# We will store the details of videos for different categories in these columns\n",
    "\n",
    "df = pd.DataFrame(columns = ['link', 'title', 'description', 'category'])\n"
   ]
  },
  {
   "cell_type": "code",
   "execution_count": null,
   "id": "f70f76ba",
   "metadata": {},
   "outputs": [],
   "source": [
    "# scrape the video details from YouTube\n",
    "\n",
    "wait = WebDriverWait(driver, 10)\n",
    "\n",
    "v_category = \"science\"\n",
    "\n",
    "for x in links:\n",
    "            driver.get(x)\n",
    "            v_id = x.strip('https://www.youtube.com/watch?v=')\n",
    "            v_title = wait.until(EC.presence_of_element_located(\n",
    "                           (By.CSS_SELECTOR,\"h1.title yt-formatted-string\"))).text\n",
    "            v_description =  wait.until(EC.presence_of_element_located(\n",
    "                                         (By.CSS_SELECTOR,\"div#description yt-formatted-string\"))).text\n",
    "            df.loc[len(df)] = [v_id, v_title, v_description, v_category]\n",
    "\n"
   ]
  },
  {
   "cell_type": "markdown",
   "id": "574c8d57",
   "metadata": {},
   "source": [
    "Let’s breakdown this code block to understand what we just did:\n",
    "\n",
    "“wait” will ignore instances of NotFoundException that are encountered (thrown) by default in the ‘until’ condition. It will immediately propagate all others\n",
    "\n",
    "Parameters:\n",
    "driver: The WebDriver instance to pass to the expected conditions\n",
    "timeOutInSeconds: The timeout in seconds when an expectation is called\n",
    "\n",
    "v_category stores the video category name we searched for earlier\n",
    "\n",
    "The “for” loop is applied on the list of links we created above\n",
    "\n",
    "driver.get(x) traverses through all the links one-by-one and opens them in the browser to fetch the details\n",
    "\n",
    "v_id stores the stripped video ID from the link\n",
    "\n",
    "v_title stores the video title fetched by using the CSS path\n",
    "\n",
    "Similarly, v_description stores the video description by using the CSS path\n",
    "\n",
    "\n",
    "During each iteration, our code saves the extracted data inside the dataframe we created earlier\n"
   ]
  },
  {
   "cell_type": "code",
   "execution_count": 12,
   "id": "c4bc7579",
   "metadata": {},
   "outputs": [
    {
     "data": {
      "text/html": [
       "<div>\n",
       "<style scoped>\n",
       "    .dataframe tbody tr th:only-of-type {\n",
       "        vertical-align: middle;\n",
       "    }\n",
       "\n",
       "    .dataframe tbody tr th {\n",
       "        vertical-align: top;\n",
       "    }\n",
       "\n",
       "    .dataframe thead th {\n",
       "        text-align: right;\n",
       "    }\n",
       "</style>\n",
       "<table border=\"1\" class=\"dataframe\">\n",
       "  <thead>\n",
       "    <tr style=\"text-align: right;\">\n",
       "      <th></th>\n",
       "      <th>link</th>\n",
       "      <th>title</th>\n",
       "      <th>description</th>\n",
       "      <th>category</th>\n",
       "    </tr>\n",
       "  </thead>\n",
       "  <tbody>\n",
       "    <tr>\n",
       "      <th>0</th>\n",
       "      <td>zopTRZzh-Y</td>\n",
       "      <td></td>\n",
       "      <td></td>\n",
       "      <td>science</td>\n",
       "    </tr>\n",
       "    <tr>\n",
       "      <th>1</th>\n",
       "      <td>z-R3DShHbkA</td>\n",
       "      <td>EASY SCIENCE EXPERIMENTS TO DO AT HOME</td>\n",
       "      <td></td>\n",
       "      <td>science</td>\n",
       "    </tr>\n",
       "    <tr>\n",
       "      <th>2</th>\n",
       "      <td>naNeSLofnW8</td>\n",
       "      <td></td>\n",
       "      <td></td>\n",
       "      <td>science</td>\n",
       "    </tr>\n",
       "    <tr>\n",
       "      <th>3</th>\n",
       "      <td>T8DSQSk</td>\n",
       "      <td>7:00 AM - All Competitive Exams | GS by Shipra...</td>\n",
       "      <td></td>\n",
       "      <td>science</td>\n",
       "    </tr>\n",
       "    <tr>\n",
       "      <th>4</th>\n",
       "      <td>jIoIvPCJ8kY</td>\n",
       "      <td></td>\n",
       "      <td></td>\n",
       "      <td>science</td>\n",
       "    </tr>\n",
       "    <tr>\n",
       "      <th>5</th>\n",
       "      <td>j-NO-9uM-sM</td>\n",
       "      <td>Scientists Spent 14 Months in Antarctica. That...</td>\n",
       "      <td></td>\n",
       "      <td>science</td>\n",
       "    </tr>\n",
       "    <tr>\n",
       "      <th>6</th>\n",
       "      <td>NCjf6og4qHk</td>\n",
       "      <td>29 SCIENCE TRICKS that look like real MAGIC</td>\n",
       "      <td></td>\n",
       "      <td>science</td>\n",
       "    </tr>\n",
       "    <tr>\n",
       "      <th>7</th>\n",
       "      <td>d5HjXAiLWG8</td>\n",
       "      <td>Science Max |Rube Goldberg | FUN SCIENCE</td>\n",
       "      <td></td>\n",
       "      <td>science</td>\n",
       "    </tr>\n",
       "    <tr>\n",
       "      <th>8</th>\n",
       "      <td>Q7yvvq-9ytE</td>\n",
       "      <td>Flat Earthers vs Scientists: Can We Trust Scie...</td>\n",
       "      <td></td>\n",
       "      <td>science</td>\n",
       "    </tr>\n",
       "    <tr>\n",
       "      <th>9</th>\n",
       "      <td>U211GBuMgE</td>\n",
       "      <td></td>\n",
       "      <td></td>\n",
       "      <td>science</td>\n",
       "    </tr>\n",
       "    <tr>\n",
       "      <th>10</th>\n",
       "      <td>ziYdPS6WW1g</td>\n",
       "      <td></td>\n",
       "      <td></td>\n",
       "      <td>science</td>\n",
       "    </tr>\n",
       "    <tr>\n",
       "      <th>11</th>\n",
       "      <td>9tbxDgcv74</td>\n",
       "      <td></td>\n",
       "      <td></td>\n",
       "      <td>science</td>\n",
       "    </tr>\n",
       "    <tr>\n",
       "      <th>12</th>\n",
       "      <td>YrX0za2M0SU</td>\n",
       "      <td></td>\n",
       "      <td></td>\n",
       "      <td>science</td>\n",
       "    </tr>\n",
       "    <tr>\n",
       "      <th>13</th>\n",
       "      <td>FgXC1Cqva6</td>\n",
       "      <td>\"Mini Khabib\" Is 18 Years Old, But Looks And S...</td>\n",
       "      <td></td>\n",
       "      <td>science</td>\n",
       "    </tr>\n",
       "    <tr>\n",
       "      <th>14</th>\n",
       "      <td>SfejgwbDQ8</td>\n",
       "      <td>Jon Stewart On Vaccine Science And The Wuhan L...</td>\n",
       "      <td></td>\n",
       "      <td>science</td>\n",
       "    </tr>\n",
       "    <tr>\n",
       "      <th>15</th>\n",
       "      <td>CxBh5qymM</td>\n",
       "      <td>10 Crazy Science Experiments From Inventor 101</td>\n",
       "      <td></td>\n",
       "      <td>science</td>\n",
       "    </tr>\n",
       "    <tr>\n",
       "      <th>16</th>\n",
       "      <td>13fsebvr8F</td>\n",
       "      <td></td>\n",
       "      <td></td>\n",
       "      <td>science</td>\n",
       "    </tr>\n",
       "    <tr>\n",
       "      <th>17</th>\n",
       "      <td>YXlfjzl-CF</td>\n",
       "      <td>Combatting Anti-Science with Richard Dawkins</td>\n",
       "      <td></td>\n",
       "      <td>science</td>\n",
       "    </tr>\n",
       "    <tr>\n",
       "      <th>18</th>\n",
       "      <td>l9o33uBi40U</td>\n",
       "      <td>Amazing Science Toys/Gadgets 1</td>\n",
       "      <td></td>\n",
       "      <td>science</td>\n",
       "    </tr>\n",
       "    <tr>\n",
       "      <th>19</th>\n",
       "      <td>LzWZ-D5WG70</td>\n",
       "      <td>HOME SCIENCE EXPERIMENTS</td>\n",
       "      <td></td>\n",
       "      <td>science</td>\n",
       "    </tr>\n",
       "  </tbody>\n",
       "</table>\n",
       "</div>"
      ],
      "text/plain": [
       "           link                                              title  \\\n",
       "0    zopTRZzh-Y                                                      \n",
       "1   z-R3DShHbkA             EASY SCIENCE EXPERIMENTS TO DO AT HOME   \n",
       "2   naNeSLofnW8                                                      \n",
       "3       T8DSQSk  7:00 AM - All Competitive Exams | GS by Shipra...   \n",
       "4   jIoIvPCJ8kY                                                      \n",
       "5   j-NO-9uM-sM  Scientists Spent 14 Months in Antarctica. That...   \n",
       "6   NCjf6og4qHk        29 SCIENCE TRICKS that look like real MAGIC   \n",
       "7   d5HjXAiLWG8           Science Max |Rube Goldberg | FUN SCIENCE   \n",
       "8   Q7yvvq-9ytE  Flat Earthers vs Scientists: Can We Trust Scie...   \n",
       "9    U211GBuMgE                                                      \n",
       "10  ziYdPS6WW1g                                                      \n",
       "11   9tbxDgcv74                                                      \n",
       "12  YrX0za2M0SU                                                      \n",
       "13   FgXC1Cqva6  \"Mini Khabib\" Is 18 Years Old, But Looks And S...   \n",
       "14   SfejgwbDQ8  Jon Stewart On Vaccine Science And The Wuhan L...   \n",
       "15    CxBh5qymM     10 Crazy Science Experiments From Inventor 101   \n",
       "16   13fsebvr8F                                                      \n",
       "17   YXlfjzl-CF       Combatting Anti-Science with Richard Dawkins   \n",
       "18  l9o33uBi40U                     Amazing Science Toys/Gadgets 1   \n",
       "19  LzWZ-D5WG70                           HOME SCIENCE EXPERIMENTS   \n",
       "\n",
       "   description category  \n",
       "0               science  \n",
       "1               science  \n",
       "2               science  \n",
       "3               science  \n",
       "4               science  \n",
       "5               science  \n",
       "6               science  \n",
       "7               science  \n",
       "8               science  \n",
       "9               science  \n",
       "10              science  \n",
       "11              science  \n",
       "12              science  \n",
       "13              science  \n",
       "14              science  \n",
       "15              science  \n",
       "16              science  \n",
       "17              science  \n",
       "18              science  \n",
       "19              science  "
      ]
     },
     "execution_count": 12,
     "metadata": {},
     "output_type": "execute_result"
    }
   ],
   "source": [
    "df"
   ]
  },
  {
   "cell_type": "code",
   "execution_count": null,
   "id": "b7a21aff",
   "metadata": {},
   "outputs": [],
   "source": [
    "df_science = df"
   ]
  },
  {
   "cell_type": "code",
   "execution_count": null,
   "id": "d2545309",
   "metadata": {},
   "outputs": [],
   "source": [
    "# repeat for all the categories"
   ]
  },
  {
   "cell_type": "code",
   "execution_count": null,
   "id": "446ddfe4",
   "metadata": {},
   "outputs": [],
   "source": [
    "# the end"
   ]
  }
 ],
 "metadata": {
  "kernelspec": {
   "display_name": "Python 3",
   "language": "python",
   "name": "python3"
  },
  "language_info": {
   "codemirror_mode": {
    "name": "ipython",
    "version": 3
   },
   "file_extension": ".py",
   "mimetype": "text/x-python",
   "name": "python",
   "nbconvert_exporter": "python",
   "pygments_lexer": "ipython3",
   "version": "3.8.3"
  }
 },
 "nbformat": 4,
 "nbformat_minor": 5
}
